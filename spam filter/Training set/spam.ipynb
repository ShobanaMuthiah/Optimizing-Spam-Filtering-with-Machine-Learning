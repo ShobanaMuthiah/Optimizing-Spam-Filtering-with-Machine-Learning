{
  "nbformat": 4,
  "nbformat_minor": 0,
  "metadata": {
    "colab": {
      "provenance": []
    },
    "kernelspec": {
      "name": "python3",
      "display_name": "Python 3"
    },
    "language_info": {
      "name": "python"
    }
  },
  "cells": [
    {
      "cell_type": "markdown",
      "source": [
        "##IMPORTING LIBRARIES"
      ],
      "metadata": {
        "id": "0f44lIP48tVC"
      }
    },
    {
      "cell_type": "code",
      "source": [
        "import pandas as pd\n",
        "import numpy as np\n",
        "import matplotlib.pyplot as plt\n",
        "import nltk\n",
        "from nltk.corpus import stopwords\n",
        "from nltk.stem.porter  import PorterStemmer"
      ],
      "metadata": {
        "id": "PINznP4W8buN"
      },
      "execution_count": 47,
      "outputs": []
    },
    {
      "cell_type": "markdown",
      "source": [
        "##LODING DATASET"
      ],
      "metadata": {
        "id": "nwm1eXmF84m-"
      }
    },
    {
      "cell_type": "code",
      "source": [
        "df = pd.read_csv(\"/content/spam.csv\",encoding=\"latin\")\n",
        "\n",
        "df.head()"
      ],
      "metadata": {
        "colab": {
          "base_uri": "https://localhost:8080/",
          "height": 206
        },
        "id": "rn2c0d7n7aa0",
        "outputId": "0e787aef-0866-4959-80fa-75ee0f47aef1"
      },
      "execution_count": 48,
      "outputs": [
        {
          "output_type": "execute_result",
          "data": {
            "text/plain": [
              "     v1                                                 v2 Unnamed: 2  \\\n",
              "0   ham  Go until jurong point, crazy.. Available only ...        NaN   \n",
              "1   ham                      Ok lar... Joking wif u oni...        NaN   \n",
              "2  spam  Free entry in 2 a wkly comp to win FA Cup fina...        NaN   \n",
              "3   ham  U dun say so early hor... U c already then say...        NaN   \n",
              "4   ham  Nah I don't think he goes to usf, he lives aro...        NaN   \n",
              "\n",
              "  Unnamed: 3 Unnamed: 4  \n",
              "0        NaN        NaN  \n",
              "1        NaN        NaN  \n",
              "2        NaN        NaN  \n",
              "3        NaN        NaN  \n",
              "4        NaN        NaN  "
            ],
            "text/html": [
              "\n",
              "  <div id=\"df-a01aab28-3bbc-4a38-a4b3-8ee6228d3aca\">\n",
              "    <div class=\"colab-df-container\">\n",
              "      <div>\n",
              "<style scoped>\n",
              "    .dataframe tbody tr th:only-of-type {\n",
              "        vertical-align: middle;\n",
              "    }\n",
              "\n",
              "    .dataframe tbody tr th {\n",
              "        vertical-align: top;\n",
              "    }\n",
              "\n",
              "    .dataframe thead th {\n",
              "        text-align: right;\n",
              "    }\n",
              "</style>\n",
              "<table border=\"1\" class=\"dataframe\">\n",
              "  <thead>\n",
              "    <tr style=\"text-align: right;\">\n",
              "      <th></th>\n",
              "      <th>v1</th>\n",
              "      <th>v2</th>\n",
              "      <th>Unnamed: 2</th>\n",
              "      <th>Unnamed: 3</th>\n",
              "      <th>Unnamed: 4</th>\n",
              "    </tr>\n",
              "  </thead>\n",
              "  <tbody>\n",
              "    <tr>\n",
              "      <th>0</th>\n",
              "      <td>ham</td>\n",
              "      <td>Go until jurong point, crazy.. Available only ...</td>\n",
              "      <td>NaN</td>\n",
              "      <td>NaN</td>\n",
              "      <td>NaN</td>\n",
              "    </tr>\n",
              "    <tr>\n",
              "      <th>1</th>\n",
              "      <td>ham</td>\n",
              "      <td>Ok lar... Joking wif u oni...</td>\n",
              "      <td>NaN</td>\n",
              "      <td>NaN</td>\n",
              "      <td>NaN</td>\n",
              "    </tr>\n",
              "    <tr>\n",
              "      <th>2</th>\n",
              "      <td>spam</td>\n",
              "      <td>Free entry in 2 a wkly comp to win FA Cup fina...</td>\n",
              "      <td>NaN</td>\n",
              "      <td>NaN</td>\n",
              "      <td>NaN</td>\n",
              "    </tr>\n",
              "    <tr>\n",
              "      <th>3</th>\n",
              "      <td>ham</td>\n",
              "      <td>U dun say so early hor... U c already then say...</td>\n",
              "      <td>NaN</td>\n",
              "      <td>NaN</td>\n",
              "      <td>NaN</td>\n",
              "    </tr>\n",
              "    <tr>\n",
              "      <th>4</th>\n",
              "      <td>ham</td>\n",
              "      <td>Nah I don't think he goes to usf, he lives aro...</td>\n",
              "      <td>NaN</td>\n",
              "      <td>NaN</td>\n",
              "      <td>NaN</td>\n",
              "    </tr>\n",
              "  </tbody>\n",
              "</table>\n",
              "</div>\n",
              "      <button class=\"colab-df-convert\" onclick=\"convertToInteractive('df-a01aab28-3bbc-4a38-a4b3-8ee6228d3aca')\"\n",
              "              title=\"Convert this dataframe to an interactive table.\"\n",
              "              style=\"display:none;\">\n",
              "        \n",
              "  <svg xmlns=\"http://www.w3.org/2000/svg\" height=\"24px\"viewBox=\"0 0 24 24\"\n",
              "       width=\"24px\">\n",
              "    <path d=\"M0 0h24v24H0V0z\" fill=\"none\"/>\n",
              "    <path d=\"M18.56 5.44l.94 2.06.94-2.06 2.06-.94-2.06-.94-.94-2.06-.94 2.06-2.06.94zm-11 1L8.5 8.5l.94-2.06 2.06-.94-2.06-.94L8.5 2.5l-.94 2.06-2.06.94zm10 10l.94 2.06.94-2.06 2.06-.94-2.06-.94-.94-2.06-.94 2.06-2.06.94z\"/><path d=\"M17.41 7.96l-1.37-1.37c-.4-.4-.92-.59-1.43-.59-.52 0-1.04.2-1.43.59L10.3 9.45l-7.72 7.72c-.78.78-.78 2.05 0 2.83L4 21.41c.39.39.9.59 1.41.59.51 0 1.02-.2 1.41-.59l7.78-7.78 2.81-2.81c.8-.78.8-2.07 0-2.86zM5.41 20L4 18.59l7.72-7.72 1.47 1.35L5.41 20z\"/>\n",
              "  </svg>\n",
              "      </button>\n",
              "      \n",
              "  <style>\n",
              "    .colab-df-container {\n",
              "      display:flex;\n",
              "      flex-wrap:wrap;\n",
              "      gap: 12px;\n",
              "    }\n",
              "\n",
              "    .colab-df-convert {\n",
              "      background-color: #E8F0FE;\n",
              "      border: none;\n",
              "      border-radius: 50%;\n",
              "      cursor: pointer;\n",
              "      display: none;\n",
              "      fill: #1967D2;\n",
              "      height: 32px;\n",
              "      padding: 0 0 0 0;\n",
              "      width: 32px;\n",
              "    }\n",
              "\n",
              "    .colab-df-convert:hover {\n",
              "      background-color: #E2EBFA;\n",
              "      box-shadow: 0px 1px 2px rgba(60, 64, 67, 0.3), 0px 1px 3px 1px rgba(60, 64, 67, 0.15);\n",
              "      fill: #174EA6;\n",
              "    }\n",
              "\n",
              "    [theme=dark] .colab-df-convert {\n",
              "      background-color: #3B4455;\n",
              "      fill: #D2E3FC;\n",
              "    }\n",
              "\n",
              "    [theme=dark] .colab-df-convert:hover {\n",
              "      background-color: #434B5C;\n",
              "      box-shadow: 0px 1px 3px 1px rgba(0, 0, 0, 0.15);\n",
              "      filter: drop-shadow(0px 1px 2px rgba(0, 0, 0, 0.3));\n",
              "      fill: #FFFFFF;\n",
              "    }\n",
              "  </style>\n",
              "\n",
              "      <script>\n",
              "        const buttonEl =\n",
              "          document.querySelector('#df-a01aab28-3bbc-4a38-a4b3-8ee6228d3aca button.colab-df-convert');\n",
              "        buttonEl.style.display =\n",
              "          google.colab.kernel.accessAllowed ? 'block' : 'none';\n",
              "\n",
              "        async function convertToInteractive(key) {\n",
              "          const element = document.querySelector('#df-a01aab28-3bbc-4a38-a4b3-8ee6228d3aca');\n",
              "          const dataTable =\n",
              "            await google.colab.kernel.invokeFunction('convertToInteractive',\n",
              "                                                     [key], {});\n",
              "          if (!dataTable) return;\n",
              "\n",
              "          const docLinkHtml = 'Like what you see? Visit the ' +\n",
              "            '<a target=\"_blank\" href=https://colab.research.google.com/notebooks/data_table.ipynb>data table notebook</a>'\n",
              "            + ' to learn more about interactive tables.';\n",
              "          element.innerHTML = '';\n",
              "          dataTable['output_type'] = 'display_data';\n",
              "          await google.colab.output.renderOutput(dataTable, element);\n",
              "          const docLink = document.createElement('div');\n",
              "          docLink.innerHTML = docLinkHtml;\n",
              "          element.appendChild(docLink);\n",
              "        }\n",
              "      </script>\n",
              "    </div>\n",
              "  </div>\n",
              "  "
            ]
          },
          "metadata": {},
          "execution_count": 48
        }
      ]
    },
    {
      "cell_type": "markdown",
      "source": [
        "##GIVE CONCISE SUMMARY OF A DATASET"
      ],
      "metadata": {
        "id": "J3mVWpTA9MUa"
      }
    },
    {
      "cell_type": "code",
      "source": [
        "df.info()"
      ],
      "metadata": {
        "colab": {
          "base_uri": "https://localhost:8080/"
        },
        "id": "wHqojG_D7kEU",
        "outputId": "a982797d-e15a-4f96-fba1-0bcb3b13e0d2"
      },
      "execution_count": 49,
      "outputs": [
        {
          "output_type": "stream",
          "name": "stdout",
          "text": [
            "<class 'pandas.core.frame.DataFrame'>\n",
            "RangeIndex: 5572 entries, 0 to 5571\n",
            "Data columns (total 5 columns):\n",
            " #   Column      Non-Null Count  Dtype \n",
            "---  ------      --------------  ----- \n",
            " 0   v1          5572 non-null   object\n",
            " 1   v2          5572 non-null   object\n",
            " 2   Unnamed: 2  50 non-null     object\n",
            " 3   Unnamed: 3  12 non-null     object\n",
            " 4   Unnamed: 4  6 non-null      object\n",
            "dtypes: object(5)\n",
            "memory usage: 217.8+ KB\n"
          ]
        }
      ]
    },
    {
      "cell_type": "markdown",
      "source": [
        "##RETURN THE SUM OF ALL THE NULL VALUES"
      ],
      "metadata": {
        "id": "srK0k9EO9WyE"
      }
    },
    {
      "cell_type": "code",
      "source": [
        "df.isna().sum()"
      ],
      "metadata": {
        "colab": {
          "base_uri": "https://localhost:8080/"
        },
        "id": "1gQOjavH7pLY",
        "outputId": "3eef83a0-085c-498a-b8c9-24d1031da2af"
      },
      "execution_count": 50,
      "outputs": [
        {
          "output_type": "execute_result",
          "data": {
            "text/plain": [
              "v1               0\n",
              "v2               0\n",
              "Unnamed: 2    5522\n",
              "Unnamed: 3    5560\n",
              "Unnamed: 4    5566\n",
              "dtype: int64"
            ]
          },
          "metadata": {},
          "execution_count": 50
        }
      ]
    },
    {
      "cell_type": "markdown",
      "source": [
        "##RENAMING THE COLUMNS"
      ],
      "metadata": {
        "id": "LBM4pP909fhw"
      }
    },
    {
      "cell_type": "code",
      "source": [
        "df.rename({\"v1\":\"label\",\"v2\":\"text\"},inplace=True, axis=1)"
      ],
      "metadata": {
        "id": "cF57RNOK7toi"
      },
      "execution_count": 51,
      "outputs": []
    },
    {
      "cell_type": "markdown",
      "source": [
        "##BOTTOM 5 ROWS OF THE DATAFRAME"
      ],
      "metadata": {
        "id": "mgxBIxu79mGz"
      }
    },
    {
      "cell_type": "code",
      "source": [
        "df.tail()"
      ],
      "metadata": {
        "colab": {
          "base_uri": "https://localhost:8080/",
          "height": 206
        },
        "id": "8p8yOOCu7z2g",
        "outputId": "3e80d9dd-3b0a-454c-8ec0-3b28a3d3d33f"
      },
      "execution_count": 52,
      "outputs": [
        {
          "output_type": "execute_result",
          "data": {
            "text/plain": [
              "     label                                               text Unnamed: 2  \\\n",
              "5567  spam  This is the 2nd time we have tried 2 contact u...        NaN   \n",
              "5568   ham              Will Ì_ b going to esplanade fr home?        NaN   \n",
              "5569   ham  Pity, * was in mood for that. So...any other s...        NaN   \n",
              "5570   ham  The guy did some bitching but I acted like i'd...        NaN   \n",
              "5571   ham                         Rofl. Its true to its name        NaN   \n",
              "\n",
              "     Unnamed: 3 Unnamed: 4  \n",
              "5567        NaN        NaN  \n",
              "5568        NaN        NaN  \n",
              "5569        NaN        NaN  \n",
              "5570        NaN        NaN  \n",
              "5571        NaN        NaN  "
            ],
            "text/html": [
              "\n",
              "  <div id=\"df-bc8d9531-2224-4012-b203-85660d96a83f\">\n",
              "    <div class=\"colab-df-container\">\n",
              "      <div>\n",
              "<style scoped>\n",
              "    .dataframe tbody tr th:only-of-type {\n",
              "        vertical-align: middle;\n",
              "    }\n",
              "\n",
              "    .dataframe tbody tr th {\n",
              "        vertical-align: top;\n",
              "    }\n",
              "\n",
              "    .dataframe thead th {\n",
              "        text-align: right;\n",
              "    }\n",
              "</style>\n",
              "<table border=\"1\" class=\"dataframe\">\n",
              "  <thead>\n",
              "    <tr style=\"text-align: right;\">\n",
              "      <th></th>\n",
              "      <th>label</th>\n",
              "      <th>text</th>\n",
              "      <th>Unnamed: 2</th>\n",
              "      <th>Unnamed: 3</th>\n",
              "      <th>Unnamed: 4</th>\n",
              "    </tr>\n",
              "  </thead>\n",
              "  <tbody>\n",
              "    <tr>\n",
              "      <th>5567</th>\n",
              "      <td>spam</td>\n",
              "      <td>This is the 2nd time we have tried 2 contact u...</td>\n",
              "      <td>NaN</td>\n",
              "      <td>NaN</td>\n",
              "      <td>NaN</td>\n",
              "    </tr>\n",
              "    <tr>\n",
              "      <th>5568</th>\n",
              "      <td>ham</td>\n",
              "      <td>Will Ì_ b going to esplanade fr home?</td>\n",
              "      <td>NaN</td>\n",
              "      <td>NaN</td>\n",
              "      <td>NaN</td>\n",
              "    </tr>\n",
              "    <tr>\n",
              "      <th>5569</th>\n",
              "      <td>ham</td>\n",
              "      <td>Pity, * was in mood for that. So...any other s...</td>\n",
              "      <td>NaN</td>\n",
              "      <td>NaN</td>\n",
              "      <td>NaN</td>\n",
              "    </tr>\n",
              "    <tr>\n",
              "      <th>5570</th>\n",
              "      <td>ham</td>\n",
              "      <td>The guy did some bitching but I acted like i'd...</td>\n",
              "      <td>NaN</td>\n",
              "      <td>NaN</td>\n",
              "      <td>NaN</td>\n",
              "    </tr>\n",
              "    <tr>\n",
              "      <th>5571</th>\n",
              "      <td>ham</td>\n",
              "      <td>Rofl. Its true to its name</td>\n",
              "      <td>NaN</td>\n",
              "      <td>NaN</td>\n",
              "      <td>NaN</td>\n",
              "    </tr>\n",
              "  </tbody>\n",
              "</table>\n",
              "</div>\n",
              "      <button class=\"colab-df-convert\" onclick=\"convertToInteractive('df-bc8d9531-2224-4012-b203-85660d96a83f')\"\n",
              "              title=\"Convert this dataframe to an interactive table.\"\n",
              "              style=\"display:none;\">\n",
              "        \n",
              "  <svg xmlns=\"http://www.w3.org/2000/svg\" height=\"24px\"viewBox=\"0 0 24 24\"\n",
              "       width=\"24px\">\n",
              "    <path d=\"M0 0h24v24H0V0z\" fill=\"none\"/>\n",
              "    <path d=\"M18.56 5.44l.94 2.06.94-2.06 2.06-.94-2.06-.94-.94-2.06-.94 2.06-2.06.94zm-11 1L8.5 8.5l.94-2.06 2.06-.94-2.06-.94L8.5 2.5l-.94 2.06-2.06.94zm10 10l.94 2.06.94-2.06 2.06-.94-2.06-.94-.94-2.06-.94 2.06-2.06.94z\"/><path d=\"M17.41 7.96l-1.37-1.37c-.4-.4-.92-.59-1.43-.59-.52 0-1.04.2-1.43.59L10.3 9.45l-7.72 7.72c-.78.78-.78 2.05 0 2.83L4 21.41c.39.39.9.59 1.41.59.51 0 1.02-.2 1.41-.59l7.78-7.78 2.81-2.81c.8-.78.8-2.07 0-2.86zM5.41 20L4 18.59l7.72-7.72 1.47 1.35L5.41 20z\"/>\n",
              "  </svg>\n",
              "      </button>\n",
              "      \n",
              "  <style>\n",
              "    .colab-df-container {\n",
              "      display:flex;\n",
              "      flex-wrap:wrap;\n",
              "      gap: 12px;\n",
              "    }\n",
              "\n",
              "    .colab-df-convert {\n",
              "      background-color: #E8F0FE;\n",
              "      border: none;\n",
              "      border-radius: 50%;\n",
              "      cursor: pointer;\n",
              "      display: none;\n",
              "      fill: #1967D2;\n",
              "      height: 32px;\n",
              "      padding: 0 0 0 0;\n",
              "      width: 32px;\n",
              "    }\n",
              "\n",
              "    .colab-df-convert:hover {\n",
              "      background-color: #E2EBFA;\n",
              "      box-shadow: 0px 1px 2px rgba(60, 64, 67, 0.3), 0px 1px 3px 1px rgba(60, 64, 67, 0.15);\n",
              "      fill: #174EA6;\n",
              "    }\n",
              "\n",
              "    [theme=dark] .colab-df-convert {\n",
              "      background-color: #3B4455;\n",
              "      fill: #D2E3FC;\n",
              "    }\n",
              "\n",
              "    [theme=dark] .colab-df-convert:hover {\n",
              "      background-color: #434B5C;\n",
              "      box-shadow: 0px 1px 3px 1px rgba(0, 0, 0, 0.15);\n",
              "      filter: drop-shadow(0px 1px 2px rgba(0, 0, 0, 0.3));\n",
              "      fill: #FFFFFF;\n",
              "    }\n",
              "  </style>\n",
              "\n",
              "      <script>\n",
              "        const buttonEl =\n",
              "          document.querySelector('#df-bc8d9531-2224-4012-b203-85660d96a83f button.colab-df-convert');\n",
              "        buttonEl.style.display =\n",
              "          google.colab.kernel.accessAllowed ? 'block' : 'none';\n",
              "\n",
              "        async function convertToInteractive(key) {\n",
              "          const element = document.querySelector('#df-bc8d9531-2224-4012-b203-85660d96a83f');\n",
              "          const dataTable =\n",
              "            await google.colab.kernel.invokeFunction('convertToInteractive',\n",
              "                                                     [key], {});\n",
              "          if (!dataTable) return;\n",
              "\n",
              "          const docLinkHtml = 'Like what you see? Visit the ' +\n",
              "            '<a target=\"_blank\" href=https://colab.research.google.com/notebooks/data_table.ipynb>data table notebook</a>'\n",
              "            + ' to learn more about interactive tables.';\n",
              "          element.innerHTML = '';\n",
              "          dataTable['output_type'] = 'display_data';\n",
              "          await google.colab.output.renderOutput(dataTable, element);\n",
              "          const docLink = document.createElement('div');\n",
              "          docLink.innerHTML = docLinkHtml;\n",
              "          element.appendChild(docLink);\n",
              "        }\n",
              "      </script>\n",
              "    </div>\n",
              "  </div>\n",
              "  "
            ]
          },
          "metadata": {},
          "execution_count": 52
        }
      ]
    },
    {
      "cell_type": "markdown",
      "source": [
        "##HANDLING CATEGORICAL VALUES"
      ],
      "metadata": {
        "id": "9cnMxElo9u3B"
      }
    },
    {
      "cell_type": "code",
      "source": [
        "from sklearn.preprocessing import LabelEncoder\n",
        "le = LabelEncoder()\n",
        "df['label']=le.fit_transform(df['label'])"
      ],
      "metadata": {
        "id": "-IllNgfB72BJ"
      },
      "execution_count": 53,
      "outputs": []
    },
    {
      "cell_type": "markdown",
      "source": [
        "##HANDLING IMBALANCE DATA"
      ],
      "metadata": {
        "id": "zyFcKkj-9zFl"
      }
    },
    {
      "cell_type": "code",
      "source": [
        "from sklearn.model_selection import train_test_split\n",
        "from sklearn.feature_extraction.text import TfidfVectorizer"
      ],
      "metadata": {
        "id": "jtrFVBZe7-3i"
      },
      "execution_count": 54,
      "outputs": []
    },
    {
      "cell_type": "markdown",
      "source": [
        "VECTORIZATION "
      ],
      "metadata": {
        "id": "thjW6K2g-bsI"
      }
    },
    {
      "cell_type": "code",
      "source": [
        "tf=TfidfVectorizer()\n",
        "X=tf.fit_transform(df['text'])\n",
        "import numpy as np\n",
        "X=X.toarray()\n",
        "X"
      ],
      "metadata": {
        "colab": {
          "base_uri": "https://localhost:8080/"
        },
        "id": "0TZ5tDpY-d1g",
        "outputId": "4131c321-1b40-45c5-ab57-b4f0e0223054"
      },
      "execution_count": 55,
      "outputs": [
        {
          "output_type": "execute_result",
          "data": {
            "text/plain": [
              "array([[0., 0., 0., ..., 0., 0., 0.],\n",
              "       [0., 0., 0., ..., 0., 0., 0.],\n",
              "       [0., 0., 0., ..., 0., 0., 0.],\n",
              "       ...,\n",
              "       [0., 0., 0., ..., 0., 0., 0.],\n",
              "       [0., 0., 0., ..., 0., 0., 0.],\n",
              "       [0., 0., 0., ..., 0., 0., 0.]])"
            ]
          },
          "metadata": {},
          "execution_count": 55
        }
      ]
    },
    {
      "cell_type": "markdown",
      "source": [
        "DATA SPLITING INTO TRAIN AND VALIDATION SETS"
      ],
      "metadata": {
        "id": "AVCehDsB_vry"
      }
    },
    {
      "cell_type": "code",
      "source": [
        "X_train, X_test, y_train, y_test=train_test_split(X, df['label'], test_size=0.2, random_state=0)"
      ],
      "metadata": {
        "id": "MZqfCEVJ_2IG"
      },
      "execution_count": 56,
      "outputs": []
    },
    {
      "cell_type": "code",
      "source": [
        "#PIP INSTALL IMBLEARN\n",
        "!pip install imbalanced_learn"
      ],
      "metadata": {
        "colab": {
          "base_uri": "https://localhost:8080/"
        },
        "id": "Z3pwl8T6BWBE",
        "outputId": "3242f7ed-2969-4967-d270-d39f2f26f981"
      },
      "execution_count": 57,
      "outputs": [
        {
          "output_type": "stream",
          "name": "stdout",
          "text": [
            "Looking in indexes: https://pypi.org/simple, https://us-python.pkg.dev/colab-wheels/public/simple/\n",
            "Requirement already satisfied: imbalanced_learn in /usr/local/lib/python3.9/dist-packages (0.10.1)\n",
            "Requirement already satisfied: joblib>=1.1.1 in /usr/local/lib/python3.9/dist-packages (from imbalanced_learn) (1.1.1)\n",
            "Requirement already satisfied: threadpoolctl>=2.0.0 in /usr/local/lib/python3.9/dist-packages (from imbalanced_learn) (3.1.0)\n",
            "Requirement already satisfied: numpy>=1.17.3 in /usr/local/lib/python3.9/dist-packages (from imbalanced_learn) (1.22.4)\n",
            "Requirement already satisfied: scipy>=1.3.2 in /usr/local/lib/python3.9/dist-packages (from imbalanced_learn) (1.10.1)\n",
            "Requirement already satisfied: scikit-learn>=1.0.2 in /usr/local/lib/python3.9/dist-packages (from imbalanced_learn) (1.2.2)\n"
          ]
        }
      ]
    },
    {
      "cell_type": "code",
      "source": [
        "print(\"Before OverSampling, counts of label '1': {}\".format(sum(y_train==1)))\n",
        "print(\"Before OverSampling, counts of label '0': {}\\n\".format(sum(y_train==0)))\n",
        "\n",
        "\n",
        "\n",
        "from imblearn.over_sampling import SMOTE\n",
        "sm = SMOTE(random_state=2)\n",
        "X_train_res, y_train_res =sm.fit_resample(X_train, y_train.ravel())\n",
        "\n",
        "print('After OverSampling,the shape of train_X: {}'.format(X_train_res.shape))\n",
        "print('After OverSampling,the shape of train_y: {}\\n'.format(y_train_res.shape))\n",
        "\n",
        "print(\"After OverSampling, counts of label '1': {}\".format(sum(y_train_res==1)))\n",
        "print(\"After OverSampling, counts of label '0': {}\\n\".format(sum(y_train_res==0)))"
      ],
      "metadata": {
        "colab": {
          "base_uri": "https://localhost:8080/"
        },
        "id": "Jb1ajNt6ALT0",
        "outputId": "ffeac2a1-5517-4084-d3b2-d067d9cf2f28"
      },
      "execution_count": 58,
      "outputs": [
        {
          "output_type": "stream",
          "name": "stdout",
          "text": [
            "Before OverSampling, counts of label '1': 581\n",
            "Before OverSampling, counts of label '0': 3876\n",
            "\n",
            "After OverSampling,the shape of train_X: (7752, 8672)\n",
            "After OverSampling,the shape of train_y: (7752,)\n",
            "\n",
            "After OverSampling, counts of label '1': 3876\n",
            "After OverSampling, counts of label '0': 3876\n",
            "\n"
          ]
        }
      ]
    },
    {
      "cell_type": "markdown",
      "source": [
        "##CLEANING THE DATASET"
      ],
      "metadata": {
        "id": "dAt_Ewr5BeCl"
      }
    },
    {
      "cell_type": "code",
      "source": [
        "#DOWNLOADING STOPWORDS\n",
        "nltk.download('stopwords')"
      ],
      "metadata": {
        "colab": {
          "base_uri": "https://localhost:8080/"
        },
        "id": "h17NFzjEBiI1",
        "outputId": "389b3380-c2c9-41fd-8741-6d1af72f970c"
      },
      "execution_count": 59,
      "outputs": [
        {
          "output_type": "stream",
          "name": "stderr",
          "text": [
            "[nltk_data] Downloading package stopwords to /root/nltk_data...\n",
            "[nltk_data]   Package stopwords is already up-to-date!\n"
          ]
        },
        {
          "output_type": "execute_result",
          "data": {
            "text/plain": [
              "True"
            ]
          },
          "metadata": {},
          "execution_count": 59
        }
      ]
    },
    {
      "cell_type": "code",
      "source": [
        "import nltk\n",
        "from nltk.corpus import stopwords\n",
        "from nltk.stem import PorterStemmer"
      ],
      "metadata": {
        "id": "NFLPge6lCFiZ"
      },
      "execution_count": 60,
      "outputs": []
    },
    {
      "cell_type": "code",
      "source": [
        "import re\n",
        "corpus=[]\n",
        "length=len(df)\n"
      ],
      "metadata": {
        "id": "p1gqiub8C2qi"
      },
      "execution_count": 61,
      "outputs": []
    },
    {
      "cell_type": "code",
      "source": [
        "!pip install re"
      ],
      "metadata": {
        "colab": {
          "base_uri": "https://localhost:8080/"
        },
        "id": "ByNICISJDqTp",
        "outputId": "ce14c586-67d2-483f-a09b-f5bb2b89079e"
      },
      "execution_count": 62,
      "outputs": [
        {
          "output_type": "stream",
          "name": "stdout",
          "text": [
            "Looking in indexes: https://pypi.org/simple, https://us-python.pkg.dev/colab-wheels/public/simple/\n",
            "\u001b[31mERROR: Could not find a version that satisfies the requirement re (from versions: none)\u001b[0m\u001b[31m\n",
            "\u001b[0m\u001b[31mERROR: No matching distribution found for re\u001b[0m\u001b[31m\n",
            "\u001b[0m"
          ]
        }
      ]
    },
    {
      "cell_type": "code",
      "source": [
        "import re\n",
        "\n",
        "for i in range(0,length):\n",
        "  \n",
        "  text=re.sub(\"[^a-z^A-Z^0-9]\", \" \",df['text'][i])\n",
        "  text=text.lower()\n",
        "  text=text.split()\n",
        "  pe=PorterStemmer()\n",
        "  stopword=stopwords.words(\"english\")\n",
        "  text=[pe.stem(word) for word in text if not word in set(stopword)]\n",
        "  text=\" \".join(text)\n",
        "  corpus.append(text)"
      ],
      "metadata": {
        "id": "XZOZ0q5iC5gk"
      },
      "execution_count": 64,
      "outputs": []
    },
    {
      "cell_type": "markdown",
      "source": [
        "##TEXT PREPROCESSING"
      ],
      "metadata": {
        "id": "QFpP_lkPEGnf"
      }
    },
    {
      "cell_type": "code",
      "source": [
        "corpus"
      ],
      "metadata": {
        "colab": {
          "base_uri": "https://localhost:8080/"
        },
        "id": "WaCf6J-AEDEl",
        "outputId": "9273c07c-e4c0-49cf-f00f-06295ce94305"
      },
      "execution_count": 65,
      "outputs": [
        {
          "output_type": "execute_result",
          "data": {
            "text/plain": [
              "['go jurong point crazi avail bugi n great world la e buffet cine got amor wat',\n",
              " 'ok lar joke wif u oni',\n",
              " 'free entri 2 wkli comp win fa cup final tkt 21st may 2005 text fa 87121 receiv entri question std txt rate c appli 08452810075over18',\n",
              " 'u dun say earli hor u c alreadi say',\n",
              " 'nah think goe usf live around though',\n",
              " 'freemsg hey darl 3 week word back like fun still tb ok xxx std chg send 1 50 rcv',\n",
              " 'even brother like speak treat like aid patent',\n",
              " 'per request mell mell oru minnaminungint nurungu vettam set callertun caller press 9 copi friend callertun',\n",
              " 'winner valu network custom select receivea 900 prize reward claim call 09061701461 claim code kl341 valid 12 hour',\n",
              " 'mobil 11 month u r entitl updat latest colour mobil camera free call mobil updat co free 08002986030',\n",
              " 'gonna home soon want talk stuff anymor tonight k cri enough today',\n",
              " 'six chanc win cash 100 20 000 pound txt csh11 send 87575 cost 150p day 6day 16 tsandc appli repli hl 4 info',\n",
              " 'urgent 1 week free membership 100 000 prize jackpot txt word claim 81010 c www dbuk net lccltd pobox 4403ldnw1a7rw18',\n",
              " 'search right word thank breather promis wont take help grant fulfil promis wonder bless time',\n",
              " 'date sunday',\n",
              " 'xxxmobilemovieclub use credit click wap link next txt messag click http wap xxxmobilemovieclub com n qjkgighjjgcbl',\n",
              " 'oh k watch',\n",
              " 'eh u rememb 2 spell name ye v naughti make v wet',\n",
              " 'fine way u feel way gota b',\n",
              " 'england v macedonia dont miss goal team news txt ur nation team 87077 eg england 87077 tri wale scotland 4txt 1 20 poboxox36504w45wq 16',\n",
              " 'serious spell name',\n",
              " 'go tri 2 month ha ha joke',\n",
              " 'pay first lar da stock comin',\n",
              " 'aft finish lunch go str lor ard 3 smth lor u finish ur lunch alreadi',\n",
              " 'ffffffffff alright way meet sooner',\n",
              " 'forc eat slice realli hungri tho suck mark get worri know sick turn pizza lol',\n",
              " 'lol alway convinc',\n",
              " 'catch bu fri egg make tea eat mom left dinner feel love',\n",
              " 'back amp pack car let know room',\n",
              " 'ahhh work vagu rememb feel like lol',\n",
              " 'wait still clear sure sarcast x want live us',\n",
              " 'yeah got 2 v apologet n fallen actin like spoilt child got caught till 2 go badli cheer',\n",
              " 'k tell anyth',\n",
              " 'fear faint housework quick cuppa',\n",
              " 'thank subscript rington uk mobil charg 5 month pleas confirm repli ye repli charg',\n",
              " 'yup ok go home look time msg xuhui go learn 2nd may lesson 8am',\n",
              " 'oop let know roommat done',\n",
              " 'see letter b car',\n",
              " 'anyth lor u decid',\n",
              " 'hello saturday go text see decid anyth tomo tri invit anyth',\n",
              " 'pl go ahead watt want sure great weekend abiola',\n",
              " 'forget tell want need crave love sweet arabian steed mmmmmm yummi',\n",
              " '07732584351 rodger burn msg tri call repli sm free nokia mobil free camcord pleas call 08000930705 deliveri tomorrow',\n",
              " 'see',\n",
              " 'great hope like man well endow lt gt inch',\n",
              " 'call messag miss call',\n",
              " 'get hep b immunis nigeria',\n",
              " 'fair enough anyth go',\n",
              " 'yeah hope tyler could mayb ask around bit',\n",
              " 'u know stubborn even want go hospit kept tell mark weak sucker hospit weak sucker',\n",
              " 'think first time saw class',\n",
              " 'gram usual run like lt gt half eighth smarter though get almost whole second gram lt gt',\n",
              " 'k fyi x ride earli tomorrow morn crash place tonight',\n",
              " 'wow never realiz embarass accomod thought like sinc best could alway seem happi cave sorri give sorri offer sorri room embarass',\n",
              " 'sm ac sptv new jersey devil detroit red wing play ice hockey correct incorrect end repli end sptv',\n",
              " 'know mallika sherawat yesterday find lt url gt',\n",
              " 'congrat 1 year special cinema pass 2 call 09061209465 c suprman v matrix3 starwars3 etc 4 free bx420 ip4 5we 150pm dont miss',\n",
              " 'sorri call later meet',\n",
              " 'tell reach',\n",
              " 'ye gauti sehwag odi seri',\n",
              " 'gonna pick 1 burger way home even move pain kill',\n",
              " 'ha ha ha good joke girl situat seeker',\n",
              " 'part check iq',\n",
              " 'sorri roommat took forev ok come',\n",
              " 'ok lar doubl check wif da hair dresser alreadi said wun cut v short said cut look nice',\n",
              " 'valu custom pleas advis follow recent review mob award 1500 bonu prize call 09066364589',\n",
              " 'today song dedic day song u dedic send ur valuabl frnd first rpli',\n",
              " 'urgent ur award complimentari trip eurodisinc trav aco entry41 1000 claim txt di 87121 18 6 1 50 morefrmmob shracomorsglsuplt 10 ls1 3aj',\n",
              " 'hear new divorc barbi come ken stuff',\n",
              " 'plane give month end',\n",
              " 'wah lucki man save money hee',\n",
              " 'finish class',\n",
              " 'hi babe im home wanna someth xx',\n",
              " 'k k perform',\n",
              " 'u call',\n",
              " 'wait machan call free',\n",
              " 'that cool gentleman treat digniti respect',\n",
              " 'like peopl much shi pa',\n",
              " 'oper lt gt',\n",
              " 'still look job much ta earn',\n",
              " 'sorri call later',\n",
              " 'k call ah',\n",
              " 'ok way home hi hi',\n",
              " 'place man',\n",
              " 'yup next stop',\n",
              " 'call later network urgnt sm',\n",
              " 'real u get yo need 2 ticket one jacket done alreadi use multi',\n",
              " 'ye start send request make pain came back back bed doubl coin factori gotta cash nitro',\n",
              " 'realli still tonight babe',\n",
              " 'ela kano il download come wen ur free',\n",
              " 'yeah stand close tho catch someth',\n",
              " 'sorri pain ok meet anoth night spent late afternoon casualti mean done stuff42moro includ time sheet sorri',\n",
              " 'smile pleasur smile pain smile troubl pour like rain smile sum1 hurt u smile becoz someon still love see u smile',\n",
              " 'pleas call custom servic repres 0800 169 6031 10am 9pm guarante 1000 cash 5000 prize',\n",
              " 'havent plan buy later check alreadi lido got 530 show e afternoon u finish work alreadi',\n",
              " 'free rington wait collect simpli text password mix 85069 verifi get usher britney fml',\n",
              " 'watch telugu movi wat abt u',\n",
              " 'see finish load loan pay',\n",
              " 'hi wk ok hol ye bit run forgot hairdress appoint four need get home n shower beforehand caus prob u ham',\n",
              " 'pleas text anymor noth els say',\n",
              " 'okay name ur price long legal wen pick u ave x am xx',\n",
              " 'still look car buy gone 4the drive test yet',\n",
              " 'per request mell mell oru minnaminungint nurungu vettam set callertun caller press 9 copi friend callertun',\n",
              " 'wow right mean guess gave boston men chang search locat nyc someth chang cuz signin page still say boston',\n",
              " 'umma life vava umma love lot dear',\n",
              " 'thank lot wish birthday thank make birthday truli memor',\n",
              " 'aight hit get cash',\n",
              " 'would ip address test consid comput minecraft server',\n",
              " 'know grumpi old peopl mom like better lie alway one play joke',\n",
              " 'dont worri guess busi',\n",
              " 'plural noun research',\n",
              " 'go dinner msg',\n",
              " 'ok wif co like 2 tri new thing scare u dun like mah co u said loud',\n",
              " 'gent tri contact last weekend draw show 1000 prize guarante call 09064012160 claim code k52 valid 12hr 150ppm',\n",
              " 'wa ur openin sentenc formal anyway fine juz tt eatin much n puttin weight haha anythin special happen',\n",
              " 'enter cabin pa said happi b day boss felt special askd 4 lunch lunch invit apart went',\n",
              " 'winner u special select 2 receiv 1000 4 holiday flight inc speak live oper 2 claim 0871277810910p min 18',\n",
              " 'goodo ye must speak friday egg potato ratio tortilla need',\n",
              " 'hmm uncl inform pay school directli pl buy food',\n",
              " 'privat 2004 account statement 07742676969 show 786 unredeem bonu point claim call 08719180248 identifi code 45239 expir',\n",
              " 'urgent mobil award 2000 bonu caller prize 5 9 03 final tri contact u call landlin 09064019788 box42wr29c 150ppm',\n",
              " 'new address appl pair malarki',\n",
              " 'today voda number end 7548 select receiv 350 award match pleas call 08712300220 quot claim code 4041 standard rate app',\n",
              " 'go sao mu today done 12',\n",
              " 'predict wat time finish buy',\n",
              " 'good stuff',\n",
              " 'know yetund sent money yet sent text bother send dont involv anyth impos anyth first place apologis',\n",
              " 'room',\n",
              " 'hey girl r u hope u r well del r bak long time c give call sum time lucyxx',\n",
              " 'k k much cost',\n",
              " 'home',\n",
              " 'dear call tmorrow pl accomod',\n",
              " 'first answer question',\n",
              " 'sunshin quiz wkli q win top soni dvd player u know countri algarv txt ansr 82277 1 50 sp tyron',\n",
              " 'want 2 get laid tonight want real dog locat sent direct 2 ur mob join uk largest dog network bt txting gravel 69888 nt ec2a 31p msg 150p',\n",
              " 'haf msn yiju hotmail com',\n",
              " 'call meet',\n",
              " 'check room befor activ',\n",
              " 'rcv msg chat svc free hardcor servic text go 69988 u get noth u must age verifi yr network tri',\n",
              " 'got c lazi type forgot lect saw pouch like v nice',\n",
              " 'k text way',\n",
              " 'sir wait mail',\n",
              " 'swt thought nver get tire littl thing 4 lovabl person coz somtim littl thing occupi biggest part heart gud ni8',\n",
              " 'know pl open back',\n",
              " 'ye see ya dot',\n",
              " 'what staff name take class us',\n",
              " 'freemsg repli text randi sexi femal live local luv hear u netcollex ltd 08700621170150p per msg repli stop end',\n",
              " 'ummma call check life begin qatar pl pray hard',\n",
              " 'k delet contact',\n",
              " 'sindu got job birla soft',\n",
              " 'wine flow never',\n",
              " 'yup thk cine better co need 2 go 2 plaza mah',\n",
              " 'ok ur typic repli',\n",
              " 'per request mell mell oru minnaminungint nurungu vettam set callertun caller press 9 copi friend callertun',\n",
              " 'everywher dirt floor window even shirt sometim open mouth come flow dream world without half chore time joy lot tv show see guess like thing must exist like rain hail mist time done becom one',\n",
              " 'aaooooright work',\n",
              " 'leav hous',\n",
              " 'hello love get interview today happi good boy think miss',\n",
              " 'custom servic annonc new year deliveri wait pleas call 07046744435 arrang deliveri',\n",
              " 'winner u special select 2 receiv 1000 cash 4 holiday flight inc speak live oper 2 claim 0871277810810',\n",
              " 'keep safe need miss alreadi envi everyon see real life',\n",
              " 'new car hous parent new job hand',\n",
              " 'love excit day spend make happi',\n",
              " 'pl stop bootydeli 32 f invit friend repli ye 434 434 see www sm ac u bootydeli stop send stop frnd 62468',\n",
              " 'bangbab ur order way u receiv servic msg 2 download ur content u goto wap bangb tv ur mobil internet servic menu',\n",
              " 'place ur point e cultur modul alreadi',\n",
              " 'urgent tri contact last weekend draw show 900 prize guarante call 09061701939 claim code s89 valid 12hr',\n",
              " 'hi frnd best way avoid missunderstd wit belov one',\n",
              " 'great escap fanci bridg need lager see tomo',\n",
              " 'ye complet form clark also utter wast',\n",
              " 'sir need axi bank account bank address',\n",
              " 'hmmm thk sure got time hop ard ya go 4 free abt muz call u discuss liao',\n",
              " 'time come later',\n",
              " 'bloodi hell cant believ forgot surnam mr ill give u clue spanish begin',\n",
              " 'well gonna finish bath good fine night',\n",
              " 'let know got money carlo make call',\n",
              " 'u still go mall',\n",
              " 'turn friend stay whole show back til lt gt feel free go ahead smoke lt gt worth',\n",
              " 'text doesnt repli let know log',\n",
              " 'hi spoke maneesha v like know satisfi experi repli toll free ye',\n",
              " 'lift hope offer money need especi end month approach hurt studi anyway gr8 weekend',\n",
              " 'lol u trust',\n",
              " 'ok gentleman treat digniti respect',\n",
              " 'guy close',\n",
              " 'go noth great bye',\n",
              " 'hello handsom find job lazi work toward get back net mummi boytoy miss',\n",
              " 'haha awesom minut',\n",
              " 'pleas call custom servic repres freephon 0808 145 4742 9am 11pm guarante 1000 cash 5000 prize',\n",
              " 'got xma radio time get',\n",
              " 'ju reach home go bath first si use net tell u finish k',\n",
              " 'uniqu enough find 30th august www areyouuniqu co uk',\n",
              " 'sorri join leagu peopl dont keep touch mean great deal friend time even great person cost great week',\n",
              " 'hi final complet cours',\n",
              " 'stop howev suggest stay someon abl give or everi stool',\n",
              " 'hope settl new school year wishin gr8 day',\n",
              " 'gud mrng dear hav nice day',\n",
              " 'u got person stori',\n",
              " 'hamster dead hey tmr meet 1pm orchard mrt',\n",
              " 'hi kate even hope see tomorrow bit bloodi babyjontet txt back u xxx',\n",
              " 'found enc lt gt',\n",
              " 'sent lt gt buck',\n",
              " 'hello darlin ive finish colleg txt u finish u love kate xxx',\n",
              " 'account refil success inr lt decim gt keralacircl prepaid account balanc rs lt decim gt transact id kr lt gt',\n",
              " 'goodmorn sleep ga',\n",
              " 'u call alter 11 ok',\n",
              " 'say like dat dun buy ericsson oso cannot oredi lar',\n",
              " 'enter cabin pa said happi b day boss felt special askd 4 lunch lunch invit apart went',\n",
              " 'aight yo dat straight dogg',\n",
              " 'pleas give us connect today lt decim gt refund bill',\n",
              " 'shoot big load get readi',\n",
              " 'bruv hope great break reward semest',\n",
              " 'home alway chat',\n",
              " 'k k good studi well',\n",
              " 'yup noe leh',\n",
              " 'sound great home',\n",
              " 'final match head toward draw predict',\n",
              " 'tire slept well past night',\n",
              " 'easi ah sen got select mean good',\n",
              " 'take exam march 3',\n",
              " 'yeah think use gt atm regist sure anyway help let know sure readi',\n",
              " 'ok prob take ur time',\n",
              " 'os call ubandu run without instal hard disk use os copi import file system give repair shop',\n",
              " 'sorri call later',\n",
              " 'u say leh cours noth happen lar say v romant ju bit lor thk e nite sceneri nice leh',\n",
              " '500 new mobil 2004 must go txt nokia 89545 collect today 1 www 4 tc biz 2optout 087187262701 50gbp mtmsg18',\n",
              " 'would realli appreci call need someon talk',\n",
              " 'u meet ur dream partner soon ur career 2 flyng start 2 find free txt horo follow ur star sign e g horo ari',\n",
              " 'hey compani elama po mudyadhu',\n",
              " 'life strict teacher bcoz teacher teach lesson amp conduct exam life first conduct exam amp teach lesson happi morn',\n",
              " 'dear good morn',\n",
              " 'get gandhipuram walk cross cut road right side lt gt street road turn first right',\n",
              " 'dear go rubber place',\n",
              " 'sorri batteri die yeah',\n",
              " 'ye tv alway avail work place',\n",
              " 'text meet someon sexi today u find date even flirt u join 4 10p repli name age eg sam 25 18 msg recd thirtyeight penc',\n",
              " 'print oh lt gt come upstair',\n",
              " 'ill littl closer like bu stop street',\n",
              " 'wil reach',\n",
              " 'new theori argument win situat lose person dont argu ur friend kick amp say alway correct',\n",
              " 'u 447801259231 secret admir look 2 make contact u find r reveal think ur special call 09058094597',\n",
              " 'tomarrow final hear laptop case cant',\n",
              " 'pleassssssseeeee tel v avent done sportsx',\n",
              " 'okay shine meant sign sound better',\n",
              " 'although told u dat baig face watch realli like e watch u gave co fr u thanx 4 everyth dat u done today touch',\n",
              " 'u rememb old commerci',\n",
              " 'late said websit dont slipper',\n",
              " 'ask call ok',\n",
              " 'kalli wont bat 2nd inning',\n",
              " 'didnt work oh ok goodnight fix readi time wake dearli miss good night sleep',\n",
              " 'congratul ur award 500 cd voucher 125gift guarante free entri 2 100 wkli draw txt music 87066 tnc www ldew com1win150ppmx3age16',\n",
              " 'ranjith cal drpd deeraj deepak 5min hold',\n",
              " 'wen ur lovabl bcum angri wid u dnt take serious coz angri childish n true way show deep affect care n luv kettoda manda nice day da',\n",
              " '',\n",
              " 'up 3day also ship compani take 2wk way usp take week get lag may bribe nipost get stuff',\n",
              " 'back lemm know readi',\n",
              " 'necessarili expect done get back though headin',\n",
              " 'mmm yummi babe nice jolt suzi',\n",
              " 'lover need',\n",
              " 'tri contact repli offer video handset 750 anytim network min unlimit text camcord repli call 08000930705',\n",
              " 'park next mini come today think',\n",
              " 'yup',\n",
              " 'anyway go shop co si done yet dun disturb u liao',\n",
              " 'luton 0125698789 ring ur around h',\n",
              " 'hey realli horni want chat see nake text hot 69698 text charg 150pm unsubscrib text stop 69698',\n",
              " 'dint come us',\n",
              " 'wana plan trip sometm',\n",
              " 'sure yet still tri get hold',\n",
              " 'ur rington servic chang 25 free credit go club4mobil com choos content stop txt club stop 87070 150p wk club4 po box1146 mk45 2wt',\n",
              " 'evo download flash jealou',\n",
              " 'rington club get uk singl chart mobil week choos top qualiti rington messag free charg',\n",
              " 'come mu sort narcot situat',\n",
              " 'night end anoth day morn come special way may smile like sunni ray leav worri blue blue bay',\n",
              " 'hmv bonu special 500 pound genuin hmv voucher answer 4 easi question play send hmv 86688 info www 100percent real com',\n",
              " 'usf guess might well take 1 car',\n",
              " 'object bf come',\n",
              " 'thanx',\n",
              " 'tell rob mack gf theater',\n",
              " 'awesom see bit',\n",
              " 'sent type food like',\n",
              " 'done hand celebr full swing yet',\n",
              " 'got call tool',\n",
              " 'wen u miss someon',\n",
              " 'ok ask money far',\n",
              " 'oki',\n",
              " 'yeah think usual guy still pass last night get ahold anybodi let know throw',\n",
              " 'k might come tonight class let earli',\n",
              " 'ok',\n",
              " 'hi babi im cruisin girl friend r u 2 give call hour home that alright fone fone love jenni xxx',\n",
              " 'life mean lot love life love peopl life world call friend call world ge',\n",
              " 'dear shall mail tonit busi street shall updat tonit thing look ok varunnathu edukkukaye raksha ollu good one real sens',\n",
              " 'hey told name gautham ah',\n",
              " 'haf u found feel stupid da v cam work',\n",
              " 'oop 4 got bit',\n",
              " 'much buzi',\n",
              " 'accident delet messag resend pleas',\n",
              " 'mobil custom may claim free camera phone upgrad pay go sim card loyalti call 0845 021 3680 offer end 28thfeb c appli',\n",
              " 'unless situat go gurl would appropri',\n",
              " 'hurt teas make cri end life die plz keep one rose grave say stupid miss u nice day bslvyl',\n",
              " 'cant pick phone right pl send messag',\n",
              " 'need coffe run tomo believ time week alreadi',\n",
              " 'awesom rememb last time got somebodi high first time diesel v',\n",
              " 'shit realli shock scari cant imagin second def night u think somewher could crash night save taxi',\n",
              " 'oh way food fridg want go meal tonight',\n",
              " 'womdarful actor',\n",
              " 'sm ac blind date 4u rodds1 21 aberdeen unit kingdom check http img sm ac w icmb3cktz8r7 4 blind date send hide',\n",
              " 'yup remb think book',\n",
              " 'jo ask u wana meet',\n",
              " 'lol ye friendship hang thread caus u buy stuff',\n",
              " 'themob check newest select content game tone gossip babe sport keep mobil fit funki text wap 82468',\n",
              " 'garag key bookshelf',\n",
              " 'today accept day u accept brother sister lover dear1 best1 clos1 lvblefrnd jstfrnd cutefrnd lifpartnr belovd swtheart bstfrnd rpli mean enemi',\n",
              " 'think ur smart win 200 week weekli quiz text play 85222 cs winnersclub po box 84 m26 3uz 16 gbp1 50 week',\n",
              " 'say give call friend got money definit buy end week',\n",
              " 'hi way u 2day normal way real ur uniqu hope know u 4 rest mylif hope u find wot lost',\n",
              " 'made day great day',\n",
              " 'k k advanc happi pongal',\n",
              " 'hmmm guess go 4 kb n power yoga haha dunno tahan power yoga anot thk got lo oso forgot liao',\n",
              " 'realli dude friend afraid',\n",
              " 'decemb mobil 11mth entitl updat latest colour camera mobil free call mobil updat co free 08002986906',\n",
              " 'coffe cake guess',\n",
              " 'merri christma babe love ya kiss',\n",
              " 'hey dont go watch x men lunch haha',\n",
              " 'cud u tell ppl im gona b bit l8 co 2 buse hav gon past co full im still waitin 4 1 pete x',\n",
              " 'would great guild could meet bristol road somewher get touch weekend plan take flight good week',\n",
              " 'problem',\n",
              " 'call messag miss call',\n",
              " 'hi da today class',\n",
              " 'say good sign well know track record read women',\n",
              " 'cool text park',\n",
              " 'read text sent meant joke read light',\n",
              " 'k k apo k good movi',\n",
              " 'mayb could get book tomo return immedi someth',\n",
              " 'call germani 1 penc per minut call fix line via access number 0844 861 85 85 prepay direct access',\n",
              " 'chanc might evapor soon violat privaci steal phone number employ paperwork cool pleas contact report supervisor',\n",
              " 'valentin day special win 1000 quiz take partner trip lifetim send go 83600 150p msg rcvd custcar 08718720201',\n",
              " 'ta daaaaa home babe still',\n",
              " 'cool come havent wine dine',\n",
              " 'sleep surf',\n",
              " 'sorri call later',\n",
              " 'u call right call hand phone',\n",
              " 'ok great thanx lot',\n",
              " 'take post come must 1000 text happi read one wiv hello carolin end favourit bless',\n",
              " 'u hide stranger',\n",
              " 'interest like',\n",
              " 'sister clear two round birla soft yesterday',\n",
              " 'gudnit tc practic go',\n",
              " 'di yiju ju saw ur mail case huim havent sent u num di num',\n",
              " 'one small prestig problem',\n",
              " 'fanci shag interest sextextuk com txt xxuk suzi 69876 txt cost 1 50 per msg tnc websit x',\n",
              " 'check realli miss see jeremiah great month',\n",
              " 'nah help never iphon',\n",
              " 'car hour half go apeshit',\n",
              " 'today sorri day ever angri ever misbehav hurt plz plz slap urself bcoz ur fault basic good',\n",
              " 'yo guy ever figur much need alcohol jay tri figur much safe spend weed',\n",
              " 'lt gt ish minut 5 minut ago wtf',\n",
              " 'thank call forgot say happi onam sirji fine rememb met insur person meet qatar insha allah rakhesh ex tata aig join tissco tayseer',\n",
              " 'congratul ur award 500 cd voucher 125gift guarante free entri 2 100 wkli draw txt music 87066 tnc www ldew com1win150ppmx3age16',\n",
              " 'ur cash balanc current 500 pound maxim ur cash send cash 86688 150p msg cc 08708800282 hg suite342 2land row w1j6hl',\n",
              " 'actor work work even sleep late sinc unemploy moment alway sleep late unemploy everi day saturday',\n",
              " 'hello got st andrew boy long way cold keep post',\n",
              " 'ha ha cool cool chikku chikku db',\n",
              " 'oh ok prob',\n",
              " 'check audrey statu right',\n",
              " 'busi tri finish new year look forward final meet',\n",
              " 'good afternoon sunshin dawn day refresh happi aliv breath air smile think love alway',\n",
              " 'well know z take care worri',\n",
              " 'updat xma offer latest motorola sonyericsson nokia free bluetooth doubl min 1000 txt orang call mobileupd8 08000839402 call2optout f4q',\n",
              " 'discount code rp176781 stop messag repli stop www regalportfolio co uk custom servic 08717205546',\n",
              " 'wat uniform get',\n",
              " 'cool text readi',\n",
              " 'hello boytoy geeee miss alreadi woke wish bed cuddl love',\n",
              " 'spoil bed well',\n",
              " 'go bath msg next lt gt min',\n",
              " 'cant keep talk peopl sure pay agre price pl tell want realli buy much will pay',\n",
              " 'thank rington order refer t91 charg gbp 4 per week unsubscrib anytim call custom servic 09057039994',\n",
              " 'say happen',\n",
              " 'could seen recognis face',\n",
              " 'well lot thing happen lindsay new year sigh bar ptbo blue heron someth go',\n",
              " 'keep payasam rinu bring',\n",
              " 'taught ranjith sir call sm like becau he verifi project prabu told today pa dont mistak',\n",
              " 'guess worri must know way bodi repair quit sure worri take slow first test guid ovul relax noth said reason worri keep followin',\n",
              " 'yeah sure give coupl minut track wallet',\n",
              " 'hey leav big deal take care',\n",
              " 'hey late ah meet 945',\n",
              " 'doubl min txt 4 6month free bluetooth orang avail soni nokia motorola phone call mobileupd8 08000839402 call2optout n9dx',\n",
              " 'took mr owl 3 lick',\n",
              " 'custom place call',\n",
              " 'mm time dont like fun',\n",
              " '4mth half price orang line rental latest camera phone 4 free phone 11mth call mobilesdirect free 08000938767 updat or2stoptxt',\n",
              " 'yup lunch buffet u eat alreadi',\n",
              " 'huh late fr dinner',\n",
              " 'hey sat go intro pilat kickbox',\n",
              " 'morn ok',\n",
              " 'ye think offic lap room think that last day didnt shut',\n",
              " 'pick bout 7 30ish time go',\n",
              " 'perform award calcul everi two month current one month period',\n",
              " 'actual sleep still might u call back text gr8 rock si send u text wen wake',\n",
              " 'alway put busi put pictur ass facebook one open peopl ever met would think pictur room would hurt make feel violat',\n",
              " 'good even sir al salam wahleykkum share happi news grace god got offer tayseer tissco join hope fine inshah allah meet sometim rakhesh visitor india',\n",
              " 'hmmm k want chang field quickli da wanna get system administr network administr',\n",
              " 'free rington text first 87131 poli text get 87131 true tone help 0845 2814032 16 1st free tone 3x 150pw e nd txt stop',\n",
              " 'dear chechi talk',\n",
              " 'hair cream ship',\n",
              " 'none happen til get though',\n",
              " 'yep great loxahatche xma tree burn lt gt start hour',\n",
              " 'haha get use drive usf man know lot stoner',\n",
              " 'well slightli disastr class pm fav darl hope day ok coffe wld good stay late tomorrow time place alway',\n",
              " 'hello good week fanci drink someth later',\n",
              " 'headin toward busetop',\n",
              " 'messag text miss sender name miss number miss sent date miss miss u lot that everyth miss sent via fullonsm com',\n",
              " 'come room point iron plan weekend',\n",
              " 'co want thing',\n",
              " 'oki go yan jiu skip ard oso go cine den go mrt one blah blah blah',\n",
              " 'bring home wendi',\n",
              " '100 date servic cal l 09064012103 box334sk38ch',\n",
              " 'whatsup dont u want sleep',\n",
              " 'alright new goal',\n",
              " 'free entri 250 weekli competit text word win 80086 18 c www txttowin co uk',\n",
              " 'alright head minut text meet',\n",
              " 'send logo 2 ur lover 2 name join heart txt love name1 name2 mobno eg love adam eve 07123456789 87077 yahoo pobox36504w45wq txtno 4 ad 150p',\n",
              " 'ye last week take live call',\n",
              " 'someon contact date servic enter phone fanci find call landlin 09111032124 pobox12n146tf150p',\n",
              " 'siva hostel aha',\n",
              " 'urgent mobil number award 2000 prize guarante call 09058094455 land line claim 3030 valid 12hr',\n",
              " 'send ur friend receiv someth ur voic speak express 1 childish 2 naughti 3 sentiment 4 rowdi 5 ful attitud 6 romant 7 shi 8 attract 9 funni lt gt irrit lt gt lovabl repli',\n",
              " 'ok ok guess',\n",
              " 'aathi dear',\n",
              " 'pain urin thing els',\n",
              " '7 esplanad mind give lift co got car today',\n",
              " 'wnt buy bmw car urgent vri urgent hv shortag lt gt lac sourc arng di amt lt gt lac that prob',\n",
              " 'home watch tv lor',\n",
              " 'usual take fifteen fuck minut respond ye question',\n",
              " 'congrat nokia 3650 video camera phone call 09066382422 call cost 150ppm ave call 3min vari mobil 16 close 300603 post bcm4284 ldn wc1n3xx',\n",
              " 'book ticket pongal',\n",
              " 'avail like right around hillsborough amp lt gt th',\n",
              " 'messag sent askin lt gt dollar shoul pay lt gt lt gt',\n",
              " 'ask g iouri told stori like ten time alreadi',\n",
              " 'long applebe fuck take',\n",
              " 'hi hope u get txt journey hasnt gd 50 min late think',\n",
              " 'like love arrang',\n",
              " 'ye realli great bhaji told kalli best cricket sachin world tough get',\n",
              " 'suppos wake gt',\n",
              " 'oic saw tot din c found group liao',\n",
              " 'sorri call later',\n",
              " 'hey hey wereth monkeespeopl say monkeyaround howdi gorgeou',\n",
              " 'sorri batteri die come get gram place',\n",
              " 'well done blimey exercis yeah kinda rememb wot hmm',\n",
              " 'wont get concentr dear know mind everyth',\n",
              " 'lol made plan new year',\n",
              " '10 min later k',\n",
              " 'hank lotsli',\n",
              " 'thank hope good day today',\n",
              " 'k k detail want transfer acc enough',\n",
              " 'ok tell stay yeah tough optimist thing improv month',\n",
              " 'loan purpos 500 75 000 homeown tenant welcom previous refus still help call free 0800 1956669 text back help',\n",
              " 'si si think ill go make oreo truffl',\n",
              " 'look ami ure beauti intellig woman like u lot know u like like worri',\n",
              " 'hope result consist intellig kind start ask practicum link keep ear open best ttyl',\n",
              " '1 20 call cost guess isnt bad miss ya need ya want ya love ya',\n",
              " 'go thru differ feel waver decis cope individu time heal everyth believ',\n",
              " 'u go phone gonna die stay',\n",
              " 'great never better day give even reason thank god',\n",
              " 'upgrdcentr orang custom may claim free camera phone upgrad loyalti call 0207 153 9153 offer end 26th juli c appli opt avail',\n",
              " 'sorri call later ok bye',\n",
              " 'ok way railway',\n",
              " 'great princess love give receiv oral doggi style fave posit enjoy make love lt gt time per night',\n",
              " 'put stuff road keep get slipperi',\n",
              " 'go ride bike',\n",
              " 'yup need ju wait 4 e rain 2 stop',\n",
              " 'mani compani tell languag',\n",
              " 'okmail dear dave final notic collect 4 tenerif holiday 5000 cash award call 09061743806 landlin tc sae box326 cw25wx 150ppm',\n",
              " 'long sinc scream princess',\n",
              " 'noth meant money enter account bank remov flat rate someon transfer lt gt account lt gt dollar got remov bank differ charg also differ sure trust 9ja person send account detail co',\n",
              " 'want 2 get laid tonight want real dog locat sent direct 2 ur mob join uk largest dog network txting moan 69888nyt ec2a 31p msg 150p',\n",
              " 'nice line said broken heart plz cum 1 time infront wise trust u good 9t',\n",
              " 'ok gonna head usf like fifteen minut',\n",
              " 'love aathi love u lot',\n",
              " 'tension ah machi problem',\n",
              " 'k pick anoth 8th done',\n",
              " 'guy get back g said think stay mcr',\n",
              " 'almost see u sec',\n",
              " 'yo carlo friend alreadi ask work weekend',\n",
              " 'watch tv lor',\n",
              " 'thank babi cant wait tast real thing',\n",
              " 'chang fb jaykwon thuglyf falconerf',\n",
              " 'win realli 1 side long time',\n",
              " 'free messag activ 500 free text messag repli messag word free term condit visit www 07781482378 com',\n",
              " 'dear reach railway happen',\n",
              " 'depend qualiti want type sent boy fade glori 6 want ralph mayb 2',\n",
              " 'think fix send test messag',\n",
              " 'sorri man account dri would want could trade back half could buy shit credit card',\n",
              " 'congrat 1 year special cinema pass 2 call 09061209465 c suprman v matrix3 starwars3 etc 4 free bx420 ip4 5we 150pm dont miss',\n",
              " 'sorri meet call later',\n",
              " 'class lt gt reunion',\n",
              " 'free call',\n",
              " 'got meh',\n",
              " 'nope think go monday sorri repli late',\n",
              " 'told accentur confirm true',\n",
              " 'kate jackson rec center 7ish right',\n",
              " 'dear reach room',\n",
              " 'fight world easi u either win lose bt fightng some1 close u dificult u lose u lose u win u still lose',\n",
              " 'come',\n",
              " 'check nuerologist',\n",
              " 'lolnic went fish water',\n",
              " '123 congratul week competit draw u 1450 prize claim call 09050002311 b4280703 cs stop sm 08718727868 18 150ppm',\n",
              " 'wait e car dat bore wat co wait outsid got noth 2 home stuff watch tv wat',\n",
              " 'mayb westshor hyde park villag place near hous',\n",
              " 'know anthoni bring money school fee pay rent stuff like that need help friend need',\n",
              " 'signific',\n",
              " 'opinion 1 2 jada 3 kusruthi 4 lovabl 5 silent 6 spl charact 7 matur 8 stylish 9 simpl pl repli',\n",
              " '8 latest g still scroung ammo want give new ak tri',\n",
              " 'prabha soryda reali frm heart sori',\n",
              " 'lol ok forgiven',\n",
              " 'jst chang tat',\n",
              " 'guarante latest nokia phone 40gb ipod mp3 player 500 prize txt word collect 83355 ibhltd ldnw15h 150p mtmsgrcvd18',\n",
              " 'competit',\n",
              " 'boltblu tone 150p repli poli mono eg poly3 1 cha cha slide 2 yeah 3 slow jamz 6 toxic 8 come stop 4 tone txt',\n",
              " 'credit top http www bubbletext com renew pin tgxxrz',\n",
              " 'way transport less problemat sat night way u want ask n join bday feel free need know definit no book fri',\n",
              " 'usual person unconsci children adult may behav abnorm call',\n",
              " 'ebay might less elsewher',\n",
              " 'shall come get pickl',\n",
              " 'gonna go get taco',\n",
              " 'rude campu',\n",
              " 'urgent mobil award 2 000 bonu caller prize 02 09 03 2nd attempt contact call 0871 872 9755 box95qu',\n",
              " 'hi b ard 4 christma enjoy n merri x ma',\n",
              " 'today offer claim ur 150 worth discount voucher text ye 85023 savamob member offer mobil cs 08717898035 3 00 sub 16 unsub repli x',\n",
              " 'ye pretti ladi like singl',\n",
              " 'reciev tone within next 24hr term condit pleas see channel u teletext pg 750',\n",
              " 'jay say doubl faggot',\n",
              " 'privat 2003 account statement 07815296484 show 800 un redeem point call 08718738001 identifi code 41782 expir 18 11 04',\n",
              " 'today sunday sunday holiday work',\n",
              " 'gudnit tc practic go',\n",
              " 'late',\n",
              " 'call hope l8r malaria know miss guy miss bani big pl give love especi great day',\n",
              " 'good afternoon love goe day hope mayb got lead job think boytoy send passion kiss across sea',\n",
              " 'probabl gonna see later tonight lt',\n",
              " 'mayb fat finger press button know',\n",
              " 'ummmmmaah mani mani happi return day dear sweet heart happi birthday dear',\n",
              " 'tirupur da start offic call',\n",
              " 'www applausestor com monthlysubscript 50p msg max6 month csc web age16 2stop txt stop',\n",
              " 'famou quot develop abil listen anyth uncondit without lose temper self confid mean marri',\n",
              " 'go colleg pa els ill come self pa',\n",
              " '4 oclock mine bash flat plan',\n",
              " 'girl stay bed girl need recoveri time id rather pass fun coop bed',\n",
              " 'special',\n",
              " 'know need get hotel got invit apologis cali sweet come english bloke weddin',\n",
              " 'sorri took long omw',\n",
              " 'wait lt gt min',\n",
              " 'ok give 5 minut think see btw alibi cut hair whole time',\n",
              " 'imagin final get sink bath put pace mayb even eat left also imagin feel cage cock surround bath water remind alway own enjoy cuck',\n",
              " 'hurri weed defici like three day',\n",
              " 'sure get acknowledg astoundingli tactless gener faggi demand blood oath fo',\n",
              " 'ok everi night take warm bath drink cup milk see work magic still need loos weight know',\n",
              " 'look fri pan case cheap book perhap silli fri pan like book',\n",
              " 'well uv caus mutat sunscreen like essenti theseday',\n",
              " 'lunch onlin',\n",
              " 'know friend alreadi told',\n",
              " 'hi princess thank pic pretti',\n",
              " 'aiyo u alway c ex one dunno abt mei repli first time u repli fast lucki workin huh got bao ur sugardad ah gee',\n",
              " 'hi msg offic',\n",
              " 'thanx 4 e browni v nice',\n",
              " 'geeeee love much bare stand',\n",
              " 'gent tri contact last weekend draw show 1000 prize guarante call 09064012160 claim code k52 valid 12hr 150ppm',\n",
              " 'fuck babe miss alreadi know let send money toward net need want crave',\n",
              " 'ill call u 2mrw ninish address icki american freek wont stop callin 2 bad jen k eh',\n",
              " 'oooh bed ridden ey think',\n",
              " 'anyway go gym whatev love smile hope ok good day babe miss much alreadi',\n",
              " 'love daddi make scream pleasur go slap ass dick',\n",
              " 'wot u wanna missi',\n",
              " 'yar lor wait 4 mum 2 finish sch lunch lor whole morn stay home clean room room quit clean hee',\n",
              " 'know lab goggl went',\n",
              " 'open door',\n",
              " 'wait call',\n",
              " 'nope wait sch 4 daddi',\n",
              " '1 000 cash 2 000 prize claim call09050000327',\n",
              " 'tire argu week week want',\n",
              " 'wait 4 sch finish ard 5',\n",
              " 'mobil number 5000 claim call us back ring claim hot line 09050005321',\n",
              " 'arngd marriag u r walkin unfortuntli snake bite u bt love marriag danc frnt snake amp sayin bite bite',\n",
              " 'huh earli dinner outsid izzit',\n",
              " 'ok anyway need chang said',\n",
              " 'tri contact repli offer 750 min 150 textand new video phone call 08002988890 repli free deliveri tomorrow',\n",
              " 'ex wife abl kid want kid one day',\n",
              " 'scotland hope show jjc tendenc take care live dream',\n",
              " 'tell u headach want use 1 hour sick time',\n",
              " 'dun thk quit yet hmmm go jazz yogasana oso go meet em lesson den',\n",
              " 'pete pleas ring meiv hardli gotani credit',\n",
              " 'ya srsli better yi tho',\n",
              " 'meet call later',\n",
              " 'ur chanc win 250 wkli shop spree txt shop 80878 c www txt 2 shop com custcar 08715705022 1x150p wk',\n",
              " 'special select receiv 2000 pound award call 08712402050 line close cost 10ppm 16 cs appli ag promo',\n",
              " 'privat 2003 account statement 07753741225 show 800 un redeem point call 08715203677 identifi code 42478 expir 24 10 04',\n",
              " 'still grand prix',\n",
              " 'met stranger choos friend long world stand friendship never end let friend forev gud nitz',\n",
              " 'great',\n",
              " 'gud mrng dear nice day',\n",
              " 'import custom servic announc call freephon 0800 542 0825',\n",
              " 'exhaust train morn much wine pie sleep well',\n",
              " 'go buy mum present ar',\n",
              " 'mind blastin tsunami occur rajnik stop swim indian ocean',\n",
              " 'u send home first ok lor readi yet',\n",
              " 'speak cash yet',\n",
              " 'happi come noon',\n",
              " 'meet lunch la',\n",
              " 'take care n get well soon',\n",
              " 'xclusiv clubsaisai 2morow 28 5 soire special zouk nichol pari free rose 2 ladi info 07946746291 07880867867',\n",
              " 'meant say cant wait see u get bore bridgwat banter',\n",
              " 'neva mind ok',\n",
              " 'fine imma get drink somethin want come find',\n",
              " '22 day kick euro2004 u kept date latest news result daili remov send get txt stop 83222',\n",
              " 'valentin game send di msg ur friend 5 answer r someon realli love u que colour suit best rpli',\n",
              " 'mani depend',\n",
              " 'thanx4 today cer nice 2 catch ave 2 find time often oh well take care c u soon c',\n",
              " 'call said choos futur',\n",
              " 'happi valentin day know earli hundr handsom beauti wish thought finish aunti uncl 1st',\n",
              " 'like v shock leh co tell shuhui like tell leona also like dat almost know liao got ask abt ur reaction lor',\n",
              " 'famili happi',\n",
              " 'come n pick come immedi aft ur lesson',\n",
              " 'let snow let snow kind weather bring ppl togeth friendship grow',\n",
              " 'dear got lt gt dollar hi hi',\n",
              " 'good word word may leav u dismay mani time',\n",
              " 'make sure alex know birthday fifteen minut far concern',\n",
              " 'sorri got thing may pub later',\n",
              " 'nah straight bring bud drink someth actual littl use straight cash',\n",
              " 'haha good hear offici paid market 8th',\n",
              " 'mani lick take get center tootsi pop',\n",
              " 'yup thk r e teacher said make face look longer darren ask 2 cut short',\n",
              " 'new textbuddi chat 2 horni guy ur area 4 25p free 2 receiv search postcod gaytextbuddi com txt one name 89693',\n",
              " 'today vodafon number end 4882 select receiv 350 award number match call 09064019014 receiv 350 award',\n",
              " 'pleas dont say like hi hi hi',\n",
              " 'thank u',\n",
              " 'oh forward messag thought send',\n",
              " 'got seventeen pound seven hundr ml hope ok',\n",
              " 'dear voucher holder 2 claim week offer pc go http www e tlp co uk expressoff ts cs appli 2 stop text txt stop 80062',\n",
              " 'n funni',\n",
              " 'sweetheart hope kind day one load reason smile biola',\n",
              " 'login dat time dad fetch home',\n",
              " 'shower babi',\n",
              " 'askd u question hour answer',\n",
              " 'well imma definit need restock thanksgiv let know',\n",
              " 'said kiss kiss sound effect gorgeou man kind person need smile brighten day',\n",
              " 'probabl gonna swing wee bit',\n",
              " 'ya nice readi thursday',\n",
              " 'allo brave buse taken train triumph mean b ham jolli good rest week',\n",
              " 'watch cartoon listen music amp eve go templ amp church u',\n",
              " 'mind ask happen dont say uncomfort',\n",
              " 'privat 2003 account statement show 800 un redeem point call 08715203694 identifi code 40533 expir 31 10 04',\n",
              " 'prob send email',\n",
              " '1 000 cash 2 000 prize claim call09050000327 c rstm sw7 3ss 150ppm',\n",
              " 'that cool sometim slow gentl sonetim rough hard',\n",
              " 'gonna say sorri would normal start panic time sorri see tuesday',\n",
              " 'wait know wesley town bet hella drug',\n",
              " 'fine miss much',\n",
              " 'u got person stori',\n",
              " 'tell drug dealer get impati',\n",
              " 'sun cant come earth send luv ray cloud cant come river send luv rain cant come meet u send care msg u gud evng',\n",
              " 'place man',\n",
              " 'doesnt make sens take unless free need know wikipedia com',\n",
              " '88800 89034 premium phone servic call 08718711108',\n",
              " 'sea lay rock rock envelop envelop paper paper 3 word',\n",
              " 'mum repent',\n",
              " 'sorri go home first daddi come fetch later',\n",
              " 'leav de start prepar next',\n",
              " 'ye babi studi posit kama sutra',\n",
              " 'en chikku nang bakra msg kalstiya tea coffe',\n",
              " 'carlo minut still need buy',\n",
              " 'pay lt decim gt lakh',\n",
              " 'good even ttyl',\n",
              " 'u receiv msg',\n",
              " 'ho ho big belli laugh see ya tomo',\n",
              " 'sm ac sun0819 post hello seem cool',\n",
              " 'get ur 1st rington free repli msg tone gr8 top 20 tone phone everi week 1 50 per wk 2 opt send stop 08452810071 16',\n",
              " 'ditto worri say anyth anymor like said last night whatev want peac',\n",
              " 'got lt gt way could pick',\n",
              " 'dont knw pa drink milk',\n",
              " 'mayb say hi find got card great escap wetherspoon',\n",
              " 'piggi r u awak bet u still sleep go 4 lunch',\n",
              " 'caus freaki lol',\n",
              " 'miss call caus yell scrappi miss u wait u come home lone today',\n",
              " 'hex place talk explain',\n",
              " 'log 4 wat sdryb8i',\n",
              " 'xy go 4 e lunch',\n",
              " 'hi sue 20 year old work lapdanc love sex text live bedroom text sue 89555 textoper g2 1da 150ppmsg 18',\n",
              " 'want ask wait 4 finish lect co lect finish hour anyway',\n",
              " 'finish work yet',\n",
              " 'everi king cri babi everi great build map imprtant u r today u wil reach tomorw gud ni8',\n",
              " 'dear cherthala case u r come cochin pl call bfore u start shall also reach accordingli tell day u r come tmorow engag an holiday',\n",
              " 'thank love torch bold',\n",
              " 'forward 448712404000 pleas call 08712404000 immedi urgent messag wait',\n",
              " 'farm open',\n",
              " 'sorri troubl u buy 4d dad 1405 1680 1843 2 big 1 small sat n sun thanx',\n",
              " 'sister law hope great month say hey abiola',\n",
              " 'purchas stuff today mail po box number',\n",
              " 'ah poop look like ill prob send laptop get fix cuz gpu problem',\n",
              " 'good good job like entrepreneur',\n",
              " 'aight close still around alex place',\n",
              " 'meet corpor st outsid gap see mind work',\n",
              " 'mum ask buy food home',\n",
              " 'k u also dont msg repli msg',\n",
              " 'much r will pay',\n",
              " 'sorri call later',\n",
              " 'import prevent dehydr give enough fluid',\n",
              " 'that bit weird even suppos happen good idea sure pub',\n",
              " 'true dear sat pray even felt sm time',\n",
              " 'think get away trek long famili town sorri',\n",
              " 'wanna gym harri',\n",
              " 'quit late lar ard 12 anyway wun b drivin',\n",
              " 'review keep fantast nokia n gage game deck club nokia go 2 www cnupdat com newslett unsubscrib alert repli word',\n",
              " '4mth half price orang line rental latest camera phone 4 free phone 11mth call mobilesdirect free 08000938767 updat or2stoptxt cs',\n",
              " 'height confid aeronaut professor wer calld amp wer askd 2 sit aeroplan aftr sat wer told dat plane ws made student dey hurri plane bt 1 didnt move said made student',\n",
              " 'seem like weird time night g want come smoke day shitstorm attribut alway come make everyon smoke',\n",
              " '08714712388 10am 7pm cost 10p',\n",
              " 'save stress person dorm account send account detail money sent',\n",
              " 'also know lunch menu da know',\n",
              " 'stuff sell tell',\n",
              " '449071512431 urgent 2nd attempt contact u u 1250 call 09071512433 b4 050703 csbcm4235wc1n3xx callcost 150ppm mobilesvari max 7 50',\n",
              " 'book lesson msg call work sth go get spec membership px3748',\n",
              " 'guarante 1000 cash 2000 prize claim yr prize call custom servic repres 08714712394 10am 7pm',\n",
              " 'macha dont feel upset assum mindset believ one even wonder plan us let life begin call anytim',\n",
              " 'oh send address',\n",
              " 'fine anytim best',\n",
              " 'wondar full flim',\n",
              " 'ya even cooki jelli',\n",
              " 'world run still mayb feel admit mad correct let call life keep run world may u r also run let run',\n",
              " 'got look scrumptiou daddi want eat night long',\n",
              " 'co lar ba dao ok 1 pm lor u never ask go ah said u would ask fri said u ask today',\n",
              " 'alright omw gotta chang order half8th',\n",
              " 'exactli anyway far jide studi visit',\n",
              " 'dunno u ask',\n",
              " 'email alertfrom jeri stewarts 2kbsubject low cost prescripiton drvgsto listen email call 123',\n",
              " 'spring come earli yay',\n",
              " 'lol feel bad use money take steak dinner',\n",
              " 'even u dont get troubl convinc tel twice tel neglect msg dont c read dont repli',\n",
              " 'leav qatar tonit search opportun went fast pl add ur prayer dear rakhesh',\n",
              " 'one talk',\n",
              " 'thank look realli appreci',\n",
              " 'hi custom loyalti offer new nokia6650 mobil 10 txtauction txt word start 81151 get 4t ctxt tc 150p mtmsg',\n",
              " 'wish',\n",
              " 'haha mayb u rite u know well da feel like someon gd lor u faster go find one gal group attach liao',\n",
              " 'ye glad made',\n",
              " 'well littl time thing good time ahead',\n",
              " 'got room soon put clock back til 8 shout everyon get realis 7 wahay anoth hour bed',\n",
              " 'ok may free gym',\n",
              " 'men like shorter ladi gaze eye',\n",
              " 'dunno ju say go lido time 930',\n",
              " 'promis take good care princess run pleas send pic get chanc ttyl',\n",
              " 'u subscrib best mobil content servic uk 3 per 10 day send stop 82324 helplin 08706091795',\n",
              " 'reason spoken year anyway great week best exam',\n",
              " 'monday next week give full gist',\n",
              " 'realiz 40 year thousand old ladi run around tattoo',\n",
              " 'import custom servic announc premier',\n",
              " 'dont gimm lip caveboy',\n",
              " 'get librari',\n",
              " 'reali sorri recognis number confus r u pleas',\n",
              " 'didnt holla',\n",
              " 'cant think anyon spare room top head',\n",
              " 'faith make thing possibl hope make thing work love make thing beauti may three christma merri christma',\n",
              " 'u made appoint',\n",
              " 'call carlo phone vibrat act might hear text',\n",
              " 'romant pari 2 night 2 flight 79 book 4 next year call 08704439680t cs appli',\n",
              " 'grandma oh dear u still ill felt shit morn think hungov anoth night leav sat',\n",
              " 'urgent ur 500 guarante award still unclaim call 09066368327 closingdate04 09 02 claimcod m39m51 1 50pmmorefrommobile2bremov mobypobox734ls27yf',\n",
              " 'noth ju tot u would ask co u ba gua went mt faber yest yest ju went alreadi mah today go ju call lor',\n",
              " 'wish famili merri x ma happi new year advanc',\n",
              " 'ur award citi break could win 200 summer shop spree everi wk txt store 88039 skilgm tscs087147403231winawk age16 1 50perwksub',\n",
              " 'nt goin got somethin unless meetin 4 dinner lor haha wonder go ti time',\n",
              " 'sorri call later',\n",
              " 'cant pick phone right pl send messag',\n",
              " 'lol know dramat school alreadi close tomorrow appar drive inch snow suppos get',\n",
              " 'get anywher damn job hunt',\n",
              " 'lol u drunkard hair moment yeah still 4 tonight wat plan',\n",
              " 'idc get weasel way shit twice row',\n",
              " 'wil lt gt minut got space',\n",
              " 'sleep surf',\n",
              " 'thank pick trash',\n",
              " 'go tell friend sure want live smoke much spend hour beg come smoke',\n",
              " 'hi kate love see tonight ill phone tomorrow got sing guy gave card xxx',\n",
              " 'happi new year dear brother realli miss got number decid send text wish happi abiola',\n",
              " 'mean get door',\n",
              " 'opinion 1 2 jada 3 kusruthi 4 lovabl 5 silent 6 spl charact 7 matur 8 stylish 9 simpl pl repli',\n",
              " 'hmmm thought said 2 hour slave 3 late punish',\n",
              " 'beerag',\n",
              " 'import custom servic announc premier call freephon 0800 542 0578',\n",
              " 'dont think turn like randomlli within 5min open',\n",
              " 'suppos make still town though',\n",
              " 'time fix spell sometim get complet diff word go figur',\n",
              " 'ever thought live good life perfect partner txt back name age join mobil commun 100p sm',\n",
              " '5 free top polyphon tone call 087018728737 nation rate get toppoli tune sent everi week text subpoli 81618 3 per pole unsub 08718727870',\n",
              " 'gud mrng dear hav nice day',\n",
              " 'hope enjoy game yesterday sorri touch pl know fondli bein thot great week abiola',\n",
              " 'e best 4 ur drive tmr',\n",
              " 'u dogbreath sound like jan c al',\n",
              " 'omg want scream weigh lost weight woohoo',\n",
              " 'gener one uncount noun u dictionari piec research',\n",
              " 'realli get hang around',\n",
              " 'orang custom may claim free camera phone upgrad loyalti call 0207 153 9996 offer end 14thmarch c appli opt availa',\n",
              " 'petey boy wherear friendsar thekingshead come canlov nic',\n",
              " 'ok msg u b4 leav hous',\n",
              " 'gimm lt gt minut ago',\n",
              " 'last chanc claim ur 150 worth discount voucher today text shop 85023 savamob offer mobil cs savamob pobox84 m263uz 3 00 sub 16',\n",
              " 'appt lt time gt fault u listen told u twice',\n",
              " 'free 1st week no1 nokia tone 4 ur mobil everi week txt nokia 8077 get txting tell ur mate www getz co uk pobox 36504 w45wq 16 norm150p tone',\n",
              " 'guarante 200 award even 1000 cashto claim ur award call free 08000407165 18 2 stop getstop 88222 php rg21 4jx',\n",
              " 'k 4',\n",
              " 'dled 3d imp',\n",
              " 'sure make sure know smokin yet',\n",
              " 'boooo alway work quit',\n",
              " 'take half day leav bec well',\n",
              " 'ugh wanna get bed warm',\n",
              " 'nervou lt gt',\n",
              " 'ring come guy costum gift futur yowif hint hint',\n",
              " 'congratul ur award either 500 cd gift voucher free entri 2 100 weekli draw txt music 87066 tnc www ldew com1win150ppmx3age16',\n",
              " 'borrow ur bag ok',\n",
              " 'u outbid simonwatson5120 shinco dvd plyr 2 bid visit sm ac smsreward 2 end bid notif repli end',\n",
              " 'boytoy miss happen',\n",
              " 'lot use one babe model help youi bring match',\n",
              " 'also bring galileo dobbi',\n",
              " 'respond',\n",
              " 'boo babe u enjoyin yourjob u seem 2 b gettin well hunni hope ure ok take care llspeak 2u soonlot lovem xxxx',\n",
              " 'good afternoon starshin boytoy crave yet ach fuck sip cappuccino miss babe teas kiss',\n",
              " 'road cant txt',\n",
              " 'smsservic yourinclus text credit pl goto www comuk net login 3qxj9 unsubscrib stop extra charg help 08702840625 comuk 220 cm2 9ae',\n",
              " '25p 4 alfi moon children need song ur mob tell ur m8 txt tone chariti 8007 nokia poli chariti poli zed 08701417012 profit 2 chariti',\n",
              " 'good even ttyl',\n",
              " 'hmm bit piec lol sigh',\n",
              " 'hahaha use brain dear',\n",
              " 'hey got mail',\n",
              " 'sorri light turn green meant anoth friend want lt gt worth may around',\n",
              " 'thank yesterday sir wonder hope enjoy burial mojibiola',\n",
              " 'u secret admir reveal think u r special call 09065174042 opt repli reveal stop 1 50 per msg recd cust care 07821230901',\n",
              " 'hi mate rv u hav nice hol messag 3 say hello coz sent u 1 age start drive stay road rvx',\n",
              " 'dear voucher holder claim week offer pc pleas go http www e tlp co uk expressoff ts cs appli stop text txt stop 80062',\n",
              " 'thank much skype wit kz sura didnt get pleasur compani hope good given ultimatum oh countin aburo enjoy messag sent day ago',\n",
              " 'sure result offer',\n",
              " 'good morn dear great amp success day',\n",
              " 'want 750 anytim network min 150 text new video phone five pound per week call 08002888812 repli deliveri tomorrow',\n",
              " 'sir late pay rent past month pay lt gt charg felt would inconsider nag someth give great cost didnt speak howev recess wont abl pay charg month henc askin well ahead month end pleas help thank',\n",
              " 'tri contact offer new video phone 750 anytim network min half price rental camcord call 08000930705 repli deliveri wed',\n",
              " 'last chanc 2 claim ur 150 worth discount voucher text ye 85023 savamob member offer mobil cs 08717898035 3 00 sub 16 remov txt x stop',\n",
              " 'luv u soo much u understand special u r 2 ring u 2morrow luv u xxx',\n",
              " 'pl send comprehens mail pay much',\n",
              " 'prashanthettan mother pass away last night pray famili',\n",
              " 'urgent call 09066350750 landlin complimentari 4 ibiza holiday 10 000 cash await collect sae cs po box 434 sk3 8wp 150 ppm 18',\n",
              " 'k k go',\n",
              " 'meanwhil shit suit xavier decid give us lt gt second warn samantha come play jay guitar impress shit also think doug realiz live anymor',\n",
              " 'stomach thru much trauma swear eat better lose weight',\n",
              " 'offic what matter msg call break',\n",
              " 'yeah bare enough room two us x mani fuck shoe sorri man see later',\n",
              " 'today offer claim ur 150 worth discount voucher text ye 85023 savamob member offer mobil cs 08717898035 3 00 sub 16 unsub repli x',\n",
              " 'u reach orchard alreadi u wan 2 go buy ticket first',\n",
              " 'real babi want bring inner tigress',\n",
              " 'da run activ full version da',\n",
              " 'ah poor babi hope urfeel bettersn luv probthat overdos work hey go care spk 2 u sn lot lovejen xxx',\n",
              " 'stop stori told return say order',\n",
              " 'talk sexi make new friend fall love world discreet text date servic text vip 83110 see could meet',\n",
              " 'go take babe',\n",
              " 'hai ana tomarrow come morn lt decim gt ill sathi go rto offic repli came home',\n",
              " 'spoon okay',\n",
              " 'say somebodi name tampa',\n",
              " 'work go min',\n",
              " 'brother geniu',\n",
              " 'sorri guess whenev get hold connect mayb hour two text',\n",
              " 'u find time bu coz need sort stuff',\n",
              " 'dude ive see lotta corvett late',\n",
              " 'congratul ur award either yr suppli cd virgin record mysteri gift guarante call 09061104283 ts cs www smsco net 1 50pm approx 3min',\n",
              " 'consid wall bunker shit import never play peac guess place high enough matter',\n",
              " 'privat 2003 account statement 07808 xxxxxx show 800 un redeem point call 08719899217 identifi code 41685 expir 07 11 04',\n",
              " 'hello need posh bird chap user trial prod champney put need address dob asap ta r',\n",
              " 'u want xma 100 free text messag new video phone half price line rental call free 0800 0721072 find',\n",
              " 'well offici philosoph hole u wanna call home readi save',\n",
              " 'go good problem still need littl experi understand american custom voic',\n",
              " 'text drop x',\n",
              " 'ugh long day exhaust want cuddl take nap',\n",
              " 'talk atleast day otherwis miss best friend world shakespear shesil lt gt',\n",
              " 'shop till u drop either 10k 5k 500 cash 100 travel voucher call 09064011000 ntt po box cr01327bt fixedlin cost 150ppm mobil vari',\n",
              " 'castor need see someth',\n",
              " 'sunshin quiz wkli q win top soni dvd player u know countri liverpool play mid week txt ansr 82277 1 50 sp tyron',\n",
              " 'u secret admir look 2 make contact u find r reveal think ur special call 09058094565',\n",
              " 'u secret admir look 2 make contact u find r reveal think ur special call 09065171142 stopsm 08',\n",
              " 'remind download content alreadi paid goto http doit mymobi tv collect content',\n",
              " 'see knew give break time woul lead alway want miss curfew gonna gibe til one midnight movi gonna get til 2 need come home need getsleep anyth need b studdi ear train',\n",
              " 'love give massag use lot babi oil fave posit',\n",
              " 'dude go sup',\n",
              " 'yoyyooo u know chang permiss drive mac usb flash drive',\n",
              " 'gibb unsold mike hussey',\n",
              " 'like talk pa abl dont know',\n",
              " 'dun cut short leh u dun like ah fail quit sad',\n",
              " 'unbeliev faglord',\n",
              " 'wife knew time murder exactli',\n",
              " 'ask princess',\n",
              " 'great princess think',\n",
              " 'nutter cutter ctter cttergg cttargg ctargg ctagg ie',\n",
              " 'ok noe u busi realli bore msg u oso dunno wat colour choos 4 one',\n",
              " 'g class earli tomorrow thu tri smoke lt gt',\n",
              " 'superb thought grate u dont everyth u want mean u still opportun happier tomorrow u today',\n",
              " 'hope good week check',\n",
              " 'use hope agent drop sinc book thing year whole boston nyc experi',\n",
              " 'thursday night yeah sure thing work',\n",
              " 'free rington wait collect simpli text password mix 85069 verifi get usher britney fml',\n",
              " 'probabl money worri thing come due sever outstand invoic work two three month ago',\n",
              " 'possibl teach',\n",
              " 'wonder phone batteri went dead tell love babe',\n",
              " 'love smell bu tobacco',\n",
              " 'get worri derek taylor alreadi assum worst',\n",
              " 'hey charl sorri late repli',\n",
              " 'lastest stereophon marley dizze racal libertin stroke win nookii game flirt click themob wap bookmark text wap 82468',\n",
              " 'give plu said grinul greet whenev speak',\n",
              " 'white fudg oreo store',\n",
              " 'januari male sale hot gay chat cheaper call 08709222922 nation rate 1 5p min cheap 7 8p min peak stop text call 08712460324 10p min',\n",
              " 'love come took long leav zaher got word ym happi see sad left miss',\n",
              " 'sorri hurt',\n",
              " 'feel nauseou piss eat sweet week caus today plan pig diet week hungri',\n",
              " 'ok lor earli still project meet',\n",
              " 'call da wait call',\n",
              " 'could ask carlo could get anybodi els chip',\n",
              " 'actual send remind today wonder weekend',\n",
              " 'peopl see msg think iam addict msging wrong bcoz know iam addict sweet friend bslvyl',\n",
              " 'hey gave photo regist drive ah tmr wanna meet yck',\n",
              " 'dont talk ever ok word',\n",
              " 'u wana see',\n",
              " 'way school pl send ashley number',\n",
              " 'shall fine avalarr hollalat',\n",
              " 'went attend anoth two round today still reach home',\n",
              " 'actual delet old websit blog magicalsong blogspot com',\n",
              " 'k wait chikku il send aftr lt gt min',\n",
              " 'diet ate 1 mani slice pizza yesterday ugh alway diet',\n",
              " 'k give kvb acc detail',\n",
              " 'oh come ah',\n",
              " 'money r lucki winner 2 claim prize text money 2 88600 1million give away ppt150x3 normal text rate box403 w1t1ji',\n",
              " 'realli sorri b abl 2 friday hope u find altern hope yr term go ok',\n",
              " 'congratul ore mo owo wa enjoy wish mani happi moment fro wherev go',\n",
              " 'samu shoulder yet',\n",
              " 'time think need know near campu',\n",
              " 'dear matthew pleas call 09063440451 landlin complimentari 4 lux tenerif holiday 1000 cash await collect ppm150 sae cs box334 sk38xh',\n",
              " 'dun wear jean lor',\n",
              " 'sinc side fever vomitin',\n",
              " 'k k colleg',\n",
              " 'urgent call 09061749602 landlin complimentari 4 tenerif holiday 10 000 cash await collect sae cs box 528 hp20 1yf 150ppm 18',\n",
              " 'better made friday stuf like pig yesterday feel bleh least writh pain kind bleh',\n",
              " 'sell ton coin sell coin someon thru paypal voila money back life pocket',\n",
              " 'theyr lot place hospit medic place safe',\n",
              " 'get touch folk wait compani txt back name age opt enjoy commun 150p sm',\n",
              " 'also sorta blown coupl time recent id rather text blue look weed',\n",
              " 'sent score sopha secondari applic school think think appli research cost also contact joke ogunrind school one less expens one',\n",
              " 'cant wait see photo use',\n",
              " 'ur cash balanc current 500 pound maxim ur cash send go 86688 150p msg cc 08718720201 po box 114 14 tcr w1',\n",
              " 'hey book kb sat alreadi lesson go ah keep sat night free need meet confirm lodg',\n",
              " 'chk ur belovd ms dict',\n",
              " 'time want come',\n",
              " 'awesom lemm know whenev around',\n",
              " 'shb b ok lor thanx',\n",
              " 'beauti truth graviti read care heart feel light someon feel heavi someon leav good night',\n",
              " 'also rememb get dobbi bowl car',\n",
              " 'filthi stori girl wait',\n",
              " 'sorri c ur msg yar lor poor thing 4 one night tmr u brand new room 2 sleep',\n",
              " 'love decis feel could decid love life would much simpler less magic',\n",
              " 'welp appar retir',\n",
              " 'sort code acc bank natwest repli confirm sent right person',\n",
              " '',\n",
              " 'u sure u take sick time',\n",
              " 'urgent tri contact u today draw show 800 prize guarante call 09050001808 land line claim m95 valid12hr',\n",
              " 'watch cartoon listen music amp eve go templ amp church u',\n",
              " 'yo chad gymnast class wanna take site say christian class full',\n",
              " 'much buzi',\n",
              " 'better still catch let ask sell lt gt',\n",
              " 'sure night menu know noon menu',\n",
              " 'u want come back beauti necklac token heart that give wife like see one give dont call wait till come',\n",
              " 'will go aptitud class',\n",
              " 'wont b 2 15 tri 2 sort hous ok',\n",
              " 'yar lor wan 2 go c hors race today mah eat earlier lor ate chicken rice u',\n",
              " 'haha awesom omw back',\n",
              " 'yup thk e shop close lor',\n",
              " 'account number',\n",
              " 'eh u send wrongli lar',\n",
              " 'hey ad crap nite borin without ya 2 boggi u bore biatch thanx u wait til nxt time il ave ya',\n",
              " 'ok shall talk',\n",
              " 'dont hesit know second time weak like keep notebook eat day anyth chang day sure noth',\n",
              " 'hey pay salari de lt gt',\n",
              " 'anoth month need chocol weed alcohol',\n",
              " 'start search get job day great potenti talent',\n",
              " 'reckon need town eightish walk carpark',\n",
              " 'congrat 2 mobil 3g videophon r call 09063458130 videochat wid mate play java game dload polyph music nolin rentl',\n",
              " 'look fuckin time fuck think',\n",
              " 'yo guess drop',\n",
              " 'carlo say mu lt gt minut',\n",
              " 'offic call lt gt min',\n",
              " 'geeee miss alreadi know think fuck wait till next year togeth love kiss',\n",
              " 'yun ah ubi one say wan call tomorrow call 67441233 look iren ere got bus8 22 65 61 66 382 ubi cre ubi tech park 6ph 1st 5wkg day n',\n",
              " 'ugh gotta drive back sd la butt sore',\n",
              " '26th juli',\n",
              " 'hi im relax time ever get 7am everi day parti good night get home tomorrow 5ish',\n",
              " 'wan come come lor din c stripe skirt',\n",
              " 'xma stori peac xma msg love xma miracl jesu hav bless month ahead amp wish u merri xma',\n",
              " 'number',\n",
              " 'chang e one next escal',\n",
              " 'yetund class run water make ok pl',\n",
              " 'lot happen feel quiet beth aunt charli work lot helen mo',\n",
              " 'wait 4 bu stop aft ur lect lar dun c go get car come back n pick',\n",
              " 'aight thank comin',\n",
              " ...]"
            ]
          },
          "metadata": {},
          "execution_count": 65
        }
      ]
    },
    {
      "cell_type": "code",
      "source": [
        "from sklearn.feature_extraction.text import CountVectorizer\n",
        "\n",
        "cv=CountVectorizer(max_features=35000)\n",
        "X=cv.fit_transform(corpus).toarray()"
      ],
      "metadata": {
        "id": "mYdu8ULJEYwh"
      },
      "execution_count": 67,
      "outputs": []
    },
    {
      "cell_type": "markdown",
      "source": [
        "##SAVING INTO cv.pkl FILE"
      ],
      "metadata": {
        "id": "K2NMj_hhEy5F"
      }
    },
    {
      "cell_type": "code",
      "source": [
        "import pickle\n",
        "pickle.dump(cv,open('cv1.pkl','wb'))"
      ],
      "metadata": {
        "id": "hstSJTe_EtkL"
      },
      "execution_count": 69,
      "outputs": []
    },
    {
      "cell_type": "markdown",
      "source": [
        "##EMPLORATORY DATA ANALYSIS"
      ],
      "metadata": {
        "id": "AznRSNSYE_b0"
      }
    },
    {
      "cell_type": "code",
      "source": [
        "df.describe()"
      ],
      "metadata": {
        "colab": {
          "base_uri": "https://localhost:8080/",
          "height": 300
        },
        "id": "EtrsOUtuFCow",
        "outputId": "c3abf60e-aadd-4d65-bd35-eb5d06c86815"
      },
      "execution_count": 70,
      "outputs": [
        {
          "output_type": "execute_result",
          "data": {
            "text/plain": [
              "             label\n",
              "count  5572.000000\n",
              "mean      0.134063\n",
              "std       0.340751\n",
              "min       0.000000\n",
              "25%       0.000000\n",
              "50%       0.000000\n",
              "75%       0.000000\n",
              "max       1.000000"
            ],
            "text/html": [
              "\n",
              "  <div id=\"df-f0cdaa7f-3e9c-4fcf-88da-1bbb11a3291b\">\n",
              "    <div class=\"colab-df-container\">\n",
              "      <div>\n",
              "<style scoped>\n",
              "    .dataframe tbody tr th:only-of-type {\n",
              "        vertical-align: middle;\n",
              "    }\n",
              "\n",
              "    .dataframe tbody tr th {\n",
              "        vertical-align: top;\n",
              "    }\n",
              "\n",
              "    .dataframe thead th {\n",
              "        text-align: right;\n",
              "    }\n",
              "</style>\n",
              "<table border=\"1\" class=\"dataframe\">\n",
              "  <thead>\n",
              "    <tr style=\"text-align: right;\">\n",
              "      <th></th>\n",
              "      <th>label</th>\n",
              "    </tr>\n",
              "  </thead>\n",
              "  <tbody>\n",
              "    <tr>\n",
              "      <th>count</th>\n",
              "      <td>5572.000000</td>\n",
              "    </tr>\n",
              "    <tr>\n",
              "      <th>mean</th>\n",
              "      <td>0.134063</td>\n",
              "    </tr>\n",
              "    <tr>\n",
              "      <th>std</th>\n",
              "      <td>0.340751</td>\n",
              "    </tr>\n",
              "    <tr>\n",
              "      <th>min</th>\n",
              "      <td>0.000000</td>\n",
              "    </tr>\n",
              "    <tr>\n",
              "      <th>25%</th>\n",
              "      <td>0.000000</td>\n",
              "    </tr>\n",
              "    <tr>\n",
              "      <th>50%</th>\n",
              "      <td>0.000000</td>\n",
              "    </tr>\n",
              "    <tr>\n",
              "      <th>75%</th>\n",
              "      <td>0.000000</td>\n",
              "    </tr>\n",
              "    <tr>\n",
              "      <th>max</th>\n",
              "      <td>1.000000</td>\n",
              "    </tr>\n",
              "  </tbody>\n",
              "</table>\n",
              "</div>\n",
              "      <button class=\"colab-df-convert\" onclick=\"convertToInteractive('df-f0cdaa7f-3e9c-4fcf-88da-1bbb11a3291b')\"\n",
              "              title=\"Convert this dataframe to an interactive table.\"\n",
              "              style=\"display:none;\">\n",
              "        \n",
              "  <svg xmlns=\"http://www.w3.org/2000/svg\" height=\"24px\"viewBox=\"0 0 24 24\"\n",
              "       width=\"24px\">\n",
              "    <path d=\"M0 0h24v24H0V0z\" fill=\"none\"/>\n",
              "    <path d=\"M18.56 5.44l.94 2.06.94-2.06 2.06-.94-2.06-.94-.94-2.06-.94 2.06-2.06.94zm-11 1L8.5 8.5l.94-2.06 2.06-.94-2.06-.94L8.5 2.5l-.94 2.06-2.06.94zm10 10l.94 2.06.94-2.06 2.06-.94-2.06-.94-.94-2.06-.94 2.06-2.06.94z\"/><path d=\"M17.41 7.96l-1.37-1.37c-.4-.4-.92-.59-1.43-.59-.52 0-1.04.2-1.43.59L10.3 9.45l-7.72 7.72c-.78.78-.78 2.05 0 2.83L4 21.41c.39.39.9.59 1.41.59.51 0 1.02-.2 1.41-.59l7.78-7.78 2.81-2.81c.8-.78.8-2.07 0-2.86zM5.41 20L4 18.59l7.72-7.72 1.47 1.35L5.41 20z\"/>\n",
              "  </svg>\n",
              "      </button>\n",
              "      \n",
              "  <style>\n",
              "    .colab-df-container {\n",
              "      display:flex;\n",
              "      flex-wrap:wrap;\n",
              "      gap: 12px;\n",
              "    }\n",
              "\n",
              "    .colab-df-convert {\n",
              "      background-color: #E8F0FE;\n",
              "      border: none;\n",
              "      border-radius: 50%;\n",
              "      cursor: pointer;\n",
              "      display: none;\n",
              "      fill: #1967D2;\n",
              "      height: 32px;\n",
              "      padding: 0 0 0 0;\n",
              "      width: 32px;\n",
              "    }\n",
              "\n",
              "    .colab-df-convert:hover {\n",
              "      background-color: #E2EBFA;\n",
              "      box-shadow: 0px 1px 2px rgba(60, 64, 67, 0.3), 0px 1px 3px 1px rgba(60, 64, 67, 0.15);\n",
              "      fill: #174EA6;\n",
              "    }\n",
              "\n",
              "    [theme=dark] .colab-df-convert {\n",
              "      background-color: #3B4455;\n",
              "      fill: #D2E3FC;\n",
              "    }\n",
              "\n",
              "    [theme=dark] .colab-df-convert:hover {\n",
              "      background-color: #434B5C;\n",
              "      box-shadow: 0px 1px 3px 1px rgba(0, 0, 0, 0.15);\n",
              "      filter: drop-shadow(0px 1px 2px rgba(0, 0, 0, 0.3));\n",
              "      fill: #FFFFFF;\n",
              "    }\n",
              "  </style>\n",
              "\n",
              "      <script>\n",
              "        const buttonEl =\n",
              "          document.querySelector('#df-f0cdaa7f-3e9c-4fcf-88da-1bbb11a3291b button.colab-df-convert');\n",
              "        buttonEl.style.display =\n",
              "          google.colab.kernel.accessAllowed ? 'block' : 'none';\n",
              "\n",
              "        async function convertToInteractive(key) {\n",
              "          const element = document.querySelector('#df-f0cdaa7f-3e9c-4fcf-88da-1bbb11a3291b');\n",
              "          const dataTable =\n",
              "            await google.colab.kernel.invokeFunction('convertToInteractive',\n",
              "                                                     [key], {});\n",
              "          if (!dataTable) return;\n",
              "\n",
              "          const docLinkHtml = 'Like what you see? Visit the ' +\n",
              "            '<a target=\"_blank\" href=https://colab.research.google.com/notebooks/data_table.ipynb>data table notebook</a>'\n",
              "            + ' to learn more about interactive tables.';\n",
              "          element.innerHTML = '';\n",
              "          dataTable['output_type'] = 'display_data';\n",
              "          await google.colab.output.renderOutput(dataTable, element);\n",
              "          const docLink = document.createElement('div');\n",
              "          docLink.innerHTML = docLinkHtml;\n",
              "          element.appendChild(docLink);\n",
              "        }\n",
              "      </script>\n",
              "    </div>\n",
              "  </div>\n",
              "  "
            ]
          },
          "metadata": {},
          "execution_count": 70
        }
      ]
    },
    {
      "cell_type": "code",
      "source": [
        "df.shape"
      ],
      "metadata": {
        "colab": {
          "base_uri": "https://localhost:8080/"
        },
        "id": "OCUJwcf3FIJ8",
        "outputId": "7fe36df0-43a3-4aa7-ede4-47ec9b2958dc"
      },
      "execution_count": 71,
      "outputs": [
        {
          "output_type": "execute_result",
          "data": {
            "text/plain": [
              "(5572, 5)"
            ]
          },
          "metadata": {},
          "execution_count": 71
        }
      ]
    },
    {
      "cell_type": "markdown",
      "source": [
        "##VISUAL ANALYSIS"
      ],
      "metadata": {
        "id": "mCC2dOOqFPn-"
      }
    },
    {
      "cell_type": "code",
      "source": [
        "#COUNT PLOT FUNCTION\n",
        "df[\"label\"].value_counts().plot(kind=\"bar\",figsize=(12,6))\n",
        "plt.xticks(np.arange(2),('Non Spam','spam'),rotation=0)"
      ],
      "metadata": {
        "colab": {
          "base_uri": "https://localhost:8080/",
          "height": 574
        },
        "id": "S1J6YSVrFTrI",
        "outputId": "48f5e09f-8216-410f-84f0-71cf0dbc417b"
      },
      "execution_count": 73,
      "outputs": [
        {
          "output_type": "execute_result",
          "data": {
            "text/plain": [
              "([<matplotlib.axis.XTick at 0x7f3893db1730>,\n",
              "  <matplotlib.axis.XTick at 0x7f3893db1700>],\n",
              " [Text(0, 0, 'Non Spam'), Text(1, 0, 'spam')])"
            ]
          },
          "metadata": {},
          "execution_count": 73
        },
        {
          "output_type": "display_data",
          "data": {
            "text/plain": [
              "<Figure size 1200x600 with 1 Axes>"
            ],
            "image/png": "[encoded data removed]"
          },
          "metadata": {}
        }
      ]
    },
    {
      "cell_type": "markdown",
      "source": [
        "##SCALING THE DATA"
      ],
      "metadata": {
        "id": "P5G2egywFrI5"
      }
    },
    {
      "cell_type": "code",
      "source": [
        "from sklearn.preprocessing import StandardScaler\n",
        "from sklearn.preprocessing import OneHotEncoder\n",
        "from sklearn.preprocessing import scale\n",
        "\n",
        "sc=StandardScaler()\n",
        "x_bal=sc.fit_transform(X_train)"
      ],
      "metadata": {
        "id": "IyIzhiyXFcMY"
      },
      "execution_count": 75,
      "outputs": []
    },
    {
      "cell_type": "code",
      "source": [
        "x_bal=pd.DataFrame(x_bal)"
      ],
      "metadata": {
        "id": "YQ1kBlmRF-T1"
      },
      "execution_count": 77,
      "outputs": []
    },
    {
      "cell_type": "markdown",
      "source": [
        "#MODEL BUILDING"
      ],
      "metadata": {
        "id": "33s_fxguGhbi"
      }
    },
    {
      "cell_type": "markdown",
      "source": [
        "##DECISION TREE MODEL"
      ],
      "metadata": {
        "id": "f-fvWjQ8Gly2"
      }
    },
    {
      "cell_type": "code",
      "source": [
        "from sklearn.tree import DecisionTreeClassifier\n",
        "from sklearn import tree\n",
        "\n",
        "model=tree.DecisionTreeClassifier()\n",
        "model.fit(X_train_res,y_train_res)"
      ],
      "metadata": {
        "colab": {
          "base_uri": "https://localhost:8080/",
          "height": 75
        },
        "id": "roJz1ORhGu1s",
        "outputId": "84221260-f884-4d77-fbc4-16e81af2e4b4"
      },
      "execution_count": 88,
      "outputs": [
        {
          "output_type": "execute_result",
          "data": {
            "text/plain": [
              "DecisionTreeClassifier()"
            ],
            "text/html": [
              "<style>#sk-container-id-1 {color: black;background-color: white;}#sk-container-id-1 pre{padding: 0;}#sk-container-id-1 div.sk-toggleable {background-color: white;}#sk-container-id-1 label.sk-toggleable__label {cursor: pointer;display: block;width: 100%;margin-bottom: 0;padding: 0.3em;box-sizing: border-box;text-align: center;}#sk-container-id-1 label.sk-toggleable__label-arrow:before {content: \"▸\";float: left;margin-right: 0.25em;color: #696969;}#sk-container-id-1 label.sk-toggleable__label-arrow:hover:before {color: black;}#sk-container-id-1 div.sk-estimator:hover label.sk-toggleable__label-arrow:before {color: black;}#sk-container-id-1 div.sk-toggleable__content {max-height: 0;max-width: 0;overflow: hidden;text-align: left;background-color: #f0f8ff;}#sk-container-id-1 div.sk-toggleable__content pre {margin: 0.2em;color: black;border-radius: 0.25em;background-color: #f0f8ff;}#sk-container-id-1 input.sk-toggleable__control:checked~div.sk-toggleable__content {max-height: 200px;max-width: 100%;overflow: auto;}#sk-container-id-1 input.sk-toggleable__control:checked~label.sk-toggleable__label-arrow:before {content: \"▾\";}#sk-container-id-1 div.sk-estimator input.sk-toggleable__control:checked~label.sk-toggleable__label {background-color: #d4ebff;}#sk-container-id-1 div.sk-label input.sk-toggleable__control:checked~label.sk-toggleable__label {background-color: #d4ebff;}#sk-container-id-1 input.sk-hidden--visually {border: 0;clip: rect(1px 1px 1px 1px);clip: rect(1px, 1px, 1px, 1px);height: 1px;margin: -1px;overflow: hidden;padding: 0;position: absolute;width: 1px;}#sk-container-id-1 div.sk-estimator {font-family: monospace;background-color: #f0f8ff;border: 1px dotted black;border-radius: 0.25em;box-sizing: border-box;margin-bottom: 0.5em;}#sk-container-id-1 div.sk-estimator:hover {background-color: #d4ebff;}#sk-container-id-1 div.sk-parallel-item::after {content: \"\";width: 100%;border-bottom: 1px solid gray;flex-grow: 1;}#sk-container-id-1 div.sk-label:hover label.sk-toggleable__label {background-color: #d4ebff;}#sk-container-id-1 div.sk-serial::before {content: \"\";position: absolute;border-left: 1px solid gray;box-sizing: border-box;top: 0;bottom: 0;left: 50%;z-index: 0;}#sk-container-id-1 div.sk-serial {display: flex;flex-direction: column;align-items: center;background-color: white;padding-right: 0.2em;padding-left: 0.2em;position: relative;}#sk-container-id-1 div.sk-item {position: relative;z-index: 1;}#sk-container-id-1 div.sk-parallel {display: flex;align-items: stretch;justify-content: center;background-color: white;position: relative;}#sk-container-id-1 div.sk-item::before, #sk-container-id-1 div.sk-parallel-item::before {content: \"\";position: absolute;border-left: 1px solid gray;box-sizing: border-box;top: 0;bottom: 0;left: 50%;z-index: -1;}#sk-container-id-1 div.sk-parallel-item {display: flex;flex-direction: column;z-index: 1;position: relative;background-color: white;}#sk-container-id-1 div.sk-parallel-item:first-child::after {align-self: flex-end;width: 50%;}#sk-container-id-1 div.sk-parallel-item:last-child::after {align-self: flex-start;width: 50%;}#sk-container-id-1 div.sk-parallel-item:only-child::after {width: 0;}#sk-container-id-1 div.sk-dashed-wrapped {border: 1px dashed gray;margin: 0 0.4em 0.5em 0.4em;box-sizing: border-box;padding-bottom: 0.4em;background-color: white;}#sk-container-id-1 div.sk-label label {font-family: monospace;font-weight: bold;display: inline-block;line-height: 1.2em;}#sk-container-id-1 div.sk-label-container {text-align: center;}#sk-container-id-1 div.sk-container {/* jupyter's `normalize.less` sets `[hidden] { display: none; }` but bootstrap.min.css set `[hidden] { display: none !important; }` so we also need the `!important` here to be able to override the default hidden behavior on the sphinx rendered scikit-learn.org. See: https://github.com/scikit-learn/scikit-learn/issues/21755 */display: inline-block !important;position: relative;}#sk-container-id-1 div.sk-text-repr-fallback {display: none;}</style><div id=\"sk-container-id-1\" class=\"sk-top-container\"><div class=\"sk-text-repr-fallback\"><pre>DecisionTreeClassifier()</pre><b>In a Jupyter environment, please rerun this cell to show the HTML representation or trust the notebook. <br />On GitHub, the HTML representation is unable to render, please try loading this page with nbviewer.org.</b></div><div class=\"sk-container\" hidden><div class=\"sk-item\"><div class=\"sk-estimator sk-toggleable\"><input class=\"sk-toggleable__control sk-hidden--visually\" id=\"sk-estimator-id-1\" type=\"checkbox\" checked><label for=\"sk-estimator-id-1\" class=\"sk-toggleable__label sk-toggleable__label-arrow\">DecisionTreeClassifier</label><div class=\"sk-toggleable__content\"><pre>DecisionTreeClassifier()</pre></div></div></div></div></div>"
            ]
          },
          "metadata": {},
          "execution_count": 88
        }
      ]
    },
    {
      "cell_type": "markdown",
      "source": [
        "##RANDOM FOREST MODEL"
      ],
      "metadata": {
        "id": "MTdtHnfLG1n6"
      }
    },
    {
      "cell_type": "code",
      "source": [
        "from sklearn.ensemble import RandomForestClassifier\n",
        "from sklearn import ensemble\n",
        "\n",
        "model1=ensemble.RandomForestClassifier()\n",
        "model1.fit(X_train_res,y_train_res)"
      ],
      "metadata": {
        "colab": {
          "base_uri": "https://localhost:8080/",
          "height": 75
        },
        "id": "ECSTsVQHHBbV",
        "outputId": "88b4deb3-4441-4251-c421-b9da5ecce324"
      },
      "execution_count": 128,
      "outputs": [
        {
          "output_type": "execute_result",
          "data": {
            "text/plain": [
              "RandomForestClassifier()"
            ],
            "text/html": [
              "<style>#sk-container-id-5 {color: black;background-color: white;}#sk-container-id-5 pre{padding: 0;}#sk-container-id-5 div.sk-toggleable {background-color: white;}#sk-container-id-5 label.sk-toggleable__label {cursor: pointer;display: block;width: 100%;margin-bottom: 0;padding: 0.3em;box-sizing: border-box;text-align: center;}#sk-container-id-5 label.sk-toggleable__label-arrow:before {content: \"▸\";float: left;margin-right: 0.25em;color: #696969;}#sk-container-id-5 label.sk-toggleable__label-arrow:hover:before {color: black;}#sk-container-id-5 div.sk-estimator:hover label.sk-toggleable__label-arrow:before {color: black;}#sk-container-id-5 div.sk-toggleable__content {max-height: 0;max-width: 0;overflow: hidden;text-align: left;background-color: #f0f8ff;}#sk-container-id-5 div.sk-toggleable__content pre {margin: 0.2em;color: black;border-radius: 0.25em;background-color: #f0f8ff;}#sk-container-id-5 input.sk-toggleable__control:checked~div.sk-toggleable__content {max-height: 200px;max-width: 100%;overflow: auto;}#sk-container-id-5 input.sk-toggleable__control:checked~label.sk-toggleable__label-arrow:before {content: \"▾\";}#sk-container-id-5 div.sk-estimator input.sk-toggleable__control:checked~label.sk-toggleable__label {background-color: #d4ebff;}#sk-container-id-5 div.sk-label input.sk-toggleable__control:checked~label.sk-toggleable__label {background-color: #d4ebff;}#sk-container-id-5 input.sk-hidden--visually {border: 0;clip: rect(1px 1px 1px 1px);clip: rect(1px, 1px, 1px, 1px);height: 1px;margin: -1px;overflow: hidden;padding: 0;position: absolute;width: 1px;}#sk-container-id-5 div.sk-estimator {font-family: monospace;background-color: #f0f8ff;border: 1px dotted black;border-radius: 0.25em;box-sizing: border-box;margin-bottom: 0.5em;}#sk-container-id-5 div.sk-estimator:hover {background-color: #d4ebff;}#sk-container-id-5 div.sk-parallel-item::after {content: \"\";width: 100%;border-bottom: 1px solid gray;flex-grow: 1;}#sk-container-id-5 div.sk-label:hover label.sk-toggleable__label {background-color: #d4ebff;}#sk-container-id-5 div.sk-serial::before {content: \"\";position: absolute;border-left: 1px solid gray;box-sizing: border-box;top: 0;bottom: 0;left: 50%;z-index: 0;}#sk-container-id-5 div.sk-serial {display: flex;flex-direction: column;align-items: center;background-color: white;padding-right: 0.2em;padding-left: 0.2em;position: relative;}#sk-container-id-5 div.sk-item {position: relative;z-index: 1;}#sk-container-id-5 div.sk-parallel {display: flex;align-items: stretch;justify-content: center;background-color: white;position: relative;}#sk-container-id-5 div.sk-item::before, #sk-container-id-5 div.sk-parallel-item::before {content: \"\";position: absolute;border-left: 1px solid gray;box-sizing: border-box;top: 0;bottom: 0;left: 50%;z-index: -1;}#sk-container-id-5 div.sk-parallel-item {display: flex;flex-direction: column;z-index: 1;position: relative;background-color: white;}#sk-container-id-5 div.sk-parallel-item:first-child::after {align-self: flex-end;width: 50%;}#sk-container-id-5 div.sk-parallel-item:last-child::after {align-self: flex-start;width: 50%;}#sk-container-id-5 div.sk-parallel-item:only-child::after {width: 0;}#sk-container-id-5 div.sk-dashed-wrapped {border: 1px dashed gray;margin: 0 0.4em 0.5em 0.4em;box-sizing: border-box;padding-bottom: 0.4em;background-color: white;}#sk-container-id-5 div.sk-label label {font-family: monospace;font-weight: bold;display: inline-block;line-height: 1.2em;}#sk-container-id-5 div.sk-label-container {text-align: center;}#sk-container-id-5 div.sk-container {/* jupyter's `normalize.less` sets `[hidden] { display: none; }` but bootstrap.min.css set `[hidden] { display: none !important; }` so we also need the `!important` here to be able to override the default hidden behavior on the sphinx rendered scikit-learn.org. See: https://github.com/scikit-learn/scikit-learn/issues/21755 */display: inline-block !important;position: relative;}#sk-container-id-5 div.sk-text-repr-fallback {display: none;}</style><div id=\"sk-container-id-5\" class=\"sk-top-container\"><div class=\"sk-text-repr-fallback\"><pre>RandomForestClassifier()</pre><b>In a Jupyter environment, please rerun this cell to show the HTML representation or trust the notebook. <br />On GitHub, the HTML representation is unable to render, please try loading this page with nbviewer.org.</b></div><div class=\"sk-container\" hidden><div class=\"sk-item\"><div class=\"sk-estimator sk-toggleable\"><input class=\"sk-toggleable__control sk-hidden--visually\" id=\"sk-estimator-id-5\" type=\"checkbox\" checked><label for=\"sk-estimator-id-5\" class=\"sk-toggleable__label sk-toggleable__label-arrow\">RandomForestClassifier</label><div class=\"sk-toggleable__content\"><pre>RandomForestClassifier()</pre></div></div></div></div></div>"
            ]
          },
          "metadata": {},
          "execution_count": 128
        }
      ]
    },
    {
      "cell_type": "markdown",
      "source": [
        "##NAIVE BAYES MODEL"
      ],
      "metadata": {
        "id": "bseqRQIjHEvo"
      }
    },
    {
      "cell_type": "code",
      "source": [
        "from sklearn.naive_bayes import MultinomialNB\n",
        "from sklearn import naive_bayes\n",
        "model=naive_bayes.MultinomialNB()\n",
        "model.fit(X_train_res,y_train_res)"
      ],
      "metadata": {
        "colab": {
          "base_uri": "https://localhost:8080/",
          "height": 75
        },
        "id": "79yj4OVjHJ3c",
        "outputId": "3cc9ee8b-df7b-4d55-dc31-f27c594ee988"
      },
      "execution_count": 91,
      "outputs": [
        {
          "output_type": "execute_result",
          "data": {
            "text/plain": [
              "MultinomialNB()"
            ],
            "text/html": [
              "<style>#sk-container-id-3 {color: black;background-color: white;}#sk-container-id-3 pre{padding: 0;}#sk-container-id-3 div.sk-toggleable {background-color: white;}#sk-container-id-3 label.sk-toggleable__label {cursor: pointer;display: block;width: 100%;margin-bottom: 0;padding: 0.3em;box-sizing: border-box;text-align: center;}#sk-container-id-3 label.sk-toggleable__label-arrow:before {content: \"▸\";float: left;margin-right: 0.25em;color: #696969;}#sk-container-id-3 label.sk-toggleable__label-arrow:hover:before {color: black;}#sk-container-id-3 div.sk-estimator:hover label.sk-toggleable__label-arrow:before {color: black;}#sk-container-id-3 div.sk-toggleable__content {max-height: 0;max-width: 0;overflow: hidden;text-align: left;background-color: #f0f8ff;}#sk-container-id-3 div.sk-toggleable__content pre {margin: 0.2em;color: black;border-radius: 0.25em;background-color: #f0f8ff;}#sk-container-id-3 input.sk-toggleable__control:checked~div.sk-toggleable__content {max-height: 200px;max-width: 100%;overflow: auto;}#sk-container-id-3 input.sk-toggleable__control:checked~label.sk-toggleable__label-arrow:before {content: \"▾\";}#sk-container-id-3 div.sk-estimator input.sk-toggleable__control:checked~label.sk-toggleable__label {background-color: #d4ebff;}#sk-container-id-3 div.sk-label input.sk-toggleable__control:checked~label.sk-toggleable__label {background-color: #d4ebff;}#sk-container-id-3 input.sk-hidden--visually {border: 0;clip: rect(1px 1px 1px 1px);clip: rect(1px, 1px, 1px, 1px);height: 1px;margin: -1px;overflow: hidden;padding: 0;position: absolute;width: 1px;}#sk-container-id-3 div.sk-estimator {font-family: monospace;background-color: #f0f8ff;border: 1px dotted black;border-radius: 0.25em;box-sizing: border-box;margin-bottom: 0.5em;}#sk-container-id-3 div.sk-estimator:hover {background-color: #d4ebff;}#sk-container-id-3 div.sk-parallel-item::after {content: \"\";width: 100%;border-bottom: 1px solid gray;flex-grow: 1;}#sk-container-id-3 div.sk-label:hover label.sk-toggleable__label {background-color: #d4ebff;}#sk-container-id-3 div.sk-serial::before {content: \"\";position: absolute;border-left: 1px solid gray;box-sizing: border-box;top: 0;bottom: 0;left: 50%;z-index: 0;}#sk-container-id-3 div.sk-serial {display: flex;flex-direction: column;align-items: center;background-color: white;padding-right: 0.2em;padding-left: 0.2em;position: relative;}#sk-container-id-3 div.sk-item {position: relative;z-index: 1;}#sk-container-id-3 div.sk-parallel {display: flex;align-items: stretch;justify-content: center;background-color: white;position: relative;}#sk-container-id-3 div.sk-item::before, #sk-container-id-3 div.sk-parallel-item::before {content: \"\";position: absolute;border-left: 1px solid gray;box-sizing: border-box;top: 0;bottom: 0;left: 50%;z-index: -1;}#sk-container-id-3 div.sk-parallel-item {display: flex;flex-direction: column;z-index: 1;position: relative;background-color: white;}#sk-container-id-3 div.sk-parallel-item:first-child::after {align-self: flex-end;width: 50%;}#sk-container-id-3 div.sk-parallel-item:last-child::after {align-self: flex-start;width: 50%;}#sk-container-id-3 div.sk-parallel-item:only-child::after {width: 0;}#sk-container-id-3 div.sk-dashed-wrapped {border: 1px dashed gray;margin: 0 0.4em 0.5em 0.4em;box-sizing: border-box;padding-bottom: 0.4em;background-color: white;}#sk-container-id-3 div.sk-label label {font-family: monospace;font-weight: bold;display: inline-block;line-height: 1.2em;}#sk-container-id-3 div.sk-label-container {text-align: center;}#sk-container-id-3 div.sk-container {/* jupyter's `normalize.less` sets `[hidden] { display: none; }` but bootstrap.min.css set `[hidden] { display: none !important; }` so we also need the `!important` here to be able to override the default hidden behavior on the sphinx rendered scikit-learn.org. See: https://github.com/scikit-learn/scikit-learn/issues/21755 */display: inline-block !important;position: relative;}#sk-container-id-3 div.sk-text-repr-fallback {display: none;}</style><div id=\"sk-container-id-3\" class=\"sk-top-container\"><div class=\"sk-text-repr-fallback\"><pre>MultinomialNB()</pre><b>In a Jupyter environment, please rerun this cell to show the HTML representation or trust the notebook. <br />On GitHub, the HTML representation is unable to render, please try loading this page with nbviewer.org.</b></div><div class=\"sk-container\" hidden><div class=\"sk-item\"><div class=\"sk-estimator sk-toggleable\"><input class=\"sk-toggleable__control sk-hidden--visually\" id=\"sk-estimator-id-3\" type=\"checkbox\" checked><label for=\"sk-estimator-id-3\" class=\"sk-toggleable__label sk-toggleable__label-arrow\">MultinomialNB</label><div class=\"sk-toggleable__content\"><pre>MultinomialNB()</pre></div></div></div></div></div>"
            ]
          },
          "metadata": {},
          "execution_count": 91
        }
      ]
    },
    {
      "cell_type": "markdown",
      "source": [
        "##ARTIFICIAL NEURAL NETWORK(ANN)"
      ],
      "metadata": {
        "id": "jkmbtPn3HW6G"
      }
    },
    {
      "cell_type": "code",
      "source": [
        "from tensorflow.keras.models import Sequential\n",
        "from tensorflow.keras.layers import Dense"
      ],
      "metadata": {
        "id": "NedeRdBmHbry"
      },
      "execution_count": 100,
      "outputs": []
    },
    {
      "cell_type": "code",
      "source": [
        "model=Sequential()\n",
        "X_train.shape"
      ],
      "metadata": {
        "colab": {
          "base_uri": "https://localhost:8080/"
        },
        "id": "lyRxBNM4Hk4S",
        "outputId": "abea610d-f830-448c-9af2-33b673e72210"
      },
      "execution_count": 107,
      "outputs": [
        {
          "output_type": "execute_result",
          "data": {
            "text/plain": [
              "(4457, 8672)"
            ]
          },
          "metadata": {},
          "execution_count": 107
        }
      ]
    },
    {
      "cell_type": "code",
      "source": [
        "model.add(Dense(units=X_train_res.shape[1],activation=\"relu\",kernel_initializer=\"random_uniform\"))\n",
        "model.add(Dense(units=100,activation=\"relu\",kernel_initializer=\"random_uniform\"))\n",
        "\n",
        "model.add(Dense(units=1,activation=\"sigmoid\"))\n",
        "model.compile(optimizer=\"adam\",loss=\"binary_crossentropy\",metrics=['accuracy'])\n",
        "generator=model.fit(X_train_res, y_train_res, epochs=10,steps_per_epoch=len(X_train_res)//64)"
      ],
      "metadata": {
        "colab": {
          "base_uri": "https://localhost:8080/"
        },
        "id": "WwXt7apXHsEt",
        "outputId": "61b4a5b8-5ad4-4259-f823-c5cb2023635b"
      },
      "execution_count": 170,
      "outputs": [
        {
          "output_type": "stream",
          "name": "stdout",
          "text": [
            "Epoch 1/10\n",
            "121/121 [==============================] - 190s 2s/step - loss: 0.6933 - accuracy: 0.5002\n",
            "Epoch 2/10\n",
            "121/121 [==============================] - 189s 2s/step - loss: 0.6932 - accuracy: 0.5020\n",
            "Epoch 3/10\n",
            "121/121 [==============================] - 195s 2s/step - loss: 0.6930 - accuracy: 0.5052\n",
            "Epoch 4/10\n",
            "121/121 [==============================] - 191s 2s/step - loss: 0.6931 - accuracy: 0.4980\n",
            "Epoch 5/10\n",
            "121/121 [==============================] - 191s 2s/step - loss: 0.6934 - accuracy: 0.5021\n",
            "Epoch 6/10\n",
            "121/121 [==============================] - 190s 2s/step - loss: 0.6932 - accuracy: 0.4937\n",
            "Epoch 7/10\n",
            "121/121 [==============================] - 190s 2s/step - loss: 0.6931 - accuracy: 0.4958\n",
            "Epoch 8/10\n",
            "121/121 [==============================] - 191s 2s/step - loss: 0.6931 - accuracy: 0.4970\n",
            "Epoch 9/10\n",
            "121/121 [==============================] - 190s 2s/step - loss: 0.6931 - accuracy: 0.4951\n",
            "Epoch 10/10\n",
            "111/121 [==========================>...] - ETA: 16s - loss: 0.6931 - accuracy: 0.4985"
          ]
        },
        {
          "output_type": "stream",
          "name": "stderr",
          "text": [
            "WARNING:tensorflow:Your input ran out of data; interrupting training. Make sure that your dataset or generator can generate at least `steps_per_epoch * epochs` batches (in this case, 1210 batches). You may need to use the repeat() function when building your dataset.\n"
          ]
        },
        {
          "output_type": "stream",
          "name": "stdout",
          "text": [
            "\b\b\b\b\b\b\b\b\b\b\b\b\b\b\b\b\b\b\b\b\b\b\b\b\b\b\b\b\b\b\b\b\b\b\b\b\b\b\b\b\b\b\b\b\b\b\b\b\b\b\b\b\b\b\b\b\b\b\b\b\b\b\b\b\b\b\b\b\b\b\b\b\b\b\b\b\b\b\b\b\b\b\b\b\b\r121/121 [==============================] - 181s 1s/step - loss: 0.6931 - accuracy: 0.4985\n"
          ]
        }
      ]
    },
    {
      "cell_type": "markdown",
      "source": [
        "##TESTING THE MODEL"
      ],
      "metadata": {
        "id": "Qj9dqxPkJ65g"
      }
    },
    {
      "cell_type": "code",
      "source": [
        "y_pred=model.predict(X_test)\n",
        "y_pred=y_pred.flatten()"
      ],
      "metadata": {
        "colab": {
          "base_uri": "https://localhost:8080/"
        },
        "id": "wZq1jW8pJ-9p",
        "outputId": "5b36c9f4-5736-4d61-a651-9d85ce57d678"
      },
      "execution_count": 163,
      "outputs": [
        {
          "output_type": "stream",
          "name": "stdout",
          "text": [
            "35/35 [==============================] - 6s 157ms/step\n"
          ]
        }
      ]
    },
    {
      "cell_type": "code",
      "source": [
        "y_pr=np.where(y_pred>0.5,1,0)\n",
        "y_pr"
      ],
      "metadata": {
        "colab": {
          "base_uri": "https://localhost:8080/"
        },
        "id": "NwwyK0OzKY0s",
        "outputId": "82515e84-2f13-4131-95da-31fc8c1e745d"
      },
      "execution_count": 111,
      "outputs": [
        {
          "output_type": "execute_result",
          "data": {
            "text/plain": [
              "array([0, 0, 0, ..., 0, 0, 0])"
            ]
          },
          "metadata": {},
          "execution_count": 111
        }
      ]
    },
    {
      "cell_type": "markdown",
      "source": [
        "##SAVE THE MODEL INTO TEST THE INPUTS"
      ],
      "metadata": {
        "id": "tzHeUJBhMCYe"
      }
    },
    {
      "cell_type": "code",
      "source": [
        "import re\n",
        "\n",
        "def new_review(new_review):\n",
        "\n",
        "  new_review=new_review\n",
        "  new_review=re.sub('[^a-zA-Z]',' ',str(new_review))\n",
        "\n",
        "  new_review=new_review.lower()\n",
        "\n",
        "  new_review.split()\n",
        "\n",
        "  ps=PorterStemmer()\n",
        "  all_stopwords=stopwords.words('english')\n",
        "  all_stopwords.remove('not')\n",
        "  new_review=[ps.stem(word) for word in new_review if not word in set(all_stopwords)] \n",
        "\n",
        "  new_review=' '.join(new_review)\n",
        "  new_corpus=[new_review]\n",
        "  new_X_test=cv.transform(new_corpus).toarray()\n",
        "  print(new_X_test)\n",
        "\n",
        "  from keras.models import load_model\n",
        "  new_y_pred=loaded_model.predict(new_X_test)\n",
        "  print(new_y_pred)\n",
        "  new_X_pred=np.where(new_y_pred>0.5,1,0)\n",
        "  return new_y_pred\n",
        "  new_review=new_review(str(input(\"Enter new review...\")))"
      ],
      "metadata": {
        "id": "KTyoFlS4Ka8j"
      },
      "execution_count": 171,
      "outputs": []
    },
    {
      "cell_type": "markdown",
      "source": [
        "#PERFORMANCE TESTING & HYPERPARAMETER TUNING"
      ],
      "metadata": {
        "id": "rePjCCZ4MOEn"
      }
    },
    {
      "cell_type": "markdown",
      "source": [
        "COMPARE THE MODEL (NAIVE BAYES)"
      ],
      "metadata": {
        "id": "_taL1GB2MVT-"
      }
    },
    {
      "cell_type": "code",
      "source": [
        "from sklearn.naive_bayes import MultinomialNB\n",
        "import math\n",
        "nb=MultinomialNB()\n",
        "nb.fit(X_train_res,y_train_res)\n",
        "y_pred=nb.predict(X_test)\n",
        "\n",
        "from sklearn.metrics import confusion_matrix\n",
        "from sklearn.metrics import accuracy_score\n",
        "\n",
        "print(confusion_matrix(y_test,y_pred))\n",
        "score=(accuracy_score(y_test,y_pred))\n",
        "print(score)\n",
        "cm=score*100\n",
        "print('Accuracy of NAVIE BAYES: ',cm )"
      ],
      "metadata": {
        "colab": {
          "base_uri": "https://localhost:8080/"
        },
        "id": "1teyG-L3Mbr_",
        "outputId": "ef17aa83-8c0a-42d6-8567-2d50abf741cd"
      },
      "execution_count": 156,
      "outputs": [
        {
          "output_type": "stream",
          "name": "stdout",
          "text": [
            "[[941   8]\n",
            " [ 10 156]]\n",
            "0.9838565022421525\n",
            "Accuracy of NAVIE BAYES:  98.38565022421525\n"
          ]
        }
      ]
    },
    {
      "cell_type": "markdown",
      "source": [
        "COMPARE THE MODEL (DECISION TREE MODEL)"
      ],
      "metadata": {
        "id": "v9DNQFbzNj3A"
      }
    },
    {
      "cell_type": "code",
      "source": [
        "from sklearn.tree import DecisionTreeClassifier\n",
        "nb1=DecisionTreeClassifier()\n",
        "nb1.fit(X_train_res,y_train_res)\n",
        "y_pred=nb1.predict(X_test)\n",
        "\n",
        "print(confusion_matrix(y_test,y_pred))\n",
        "SC=(accuracy_score(y_test,y_pred))\n",
        "print(SC)\n",
        "c=SC*100\n",
        "print(c)"
      ],
      "metadata": {
        "colab": {
          "base_uri": "https://localhost:8080/"
        },
        "id": "AMsTknsJNScC",
        "outputId": "fb22f19d-040f-4839-a932-8bacd789f194"
      },
      "execution_count": 157,
      "outputs": [
        {
          "output_type": "stream",
          "name": "stdout",
          "text": [
            "[[928  21]\n",
            " [ 23 143]]\n",
            "0.9605381165919282\n",
            "96.05381165919282\n"
          ]
        }
      ]
    },
    {
      "cell_type": "markdown",
      "source": [
        "COMPARE THE MODEL(RANDOM FOREST MODEL"
      ],
      "metadata": {
        "id": "FljWQqgLOX1-"
      }
    },
    {
      "cell_type": "code",
      "source": [
        "\n",
        "from sklearn.ensemble import RandomForestClassifier\n",
        "from sklearn import ensemble\n",
        "\n",
        "model1=ensemble.RandomForestClassifier()\n",
        "model1.fit(X_train_res,y_train_res)\n",
        "\n",
        "\n",
        "y_pred=model1.predict(X_test)\n",
        "\n",
        "print(confusion_matrix(y_test,y_pred))\n",
        "sc=(accuracy_score(y_test,y_pred))\n",
        "print(sc)\n",
        "m=sc*100\n",
        "print(m)"
      ],
      "metadata": {
        "colab": {
          "base_uri": "https://localhost:8080/"
        },
        "id": "TXuOKiVeOc0n",
        "outputId": "598b931c-5e58-493d-e531-3490ba7141fa"
      },
      "execution_count": 159,
      "outputs": [
        {
          "output_type": "stream",
          "name": "stdout",
          "text": [
            "[[949   0]\n",
            " [ 31 135]]\n",
            "0.9721973094170404\n",
            "97.21973094170404\n"
          ]
        }
      ]
    },
    {
      "cell_type": "markdown",
      "source": [
        "#SAVING OUR MODEL"
      ],
      "metadata": {
        "id": "gsEvJSBolmRL"
      }
    },
    {
      "cell_type": "code",
      "source": [
        "model.save('spam.h5')\n"
      ],
      "metadata": {
        "id": "QJoJtYhqlpiE"
      },
      "execution_count": 172,
      "outputs": []
    }
  ]
}